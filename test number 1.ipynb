{
 "cells": [
  {
   "cell_type": "markdown",
   "source": [
    "## Task 1\n",
    "Import the CRM events and CRM call center logs tables into a PostgreSQL database. Use SQL to join the tables and summarize the average time to resolve complaints across a number of different dimensions.\n",
    "\n",
    "Provide a short presentation / slidedeck (submitted as a PDF) that summarizes your findings.\n"
   ],
   "metadata": {
    "collapsed": false
   },
   "id": "c00ec2402c4fc0ce"
  },
  {
   "cell_type": "code",
   "execution_count": 1,
   "id": "initial_id",
   "metadata": {
    "collapsed": true,
    "ExecuteTime": {
     "end_time": "2024-02-09T21:27:49.185292Z",
     "start_time": "2024-02-09T21:27:48.338423Z"
    }
   },
   "outputs": [],
   "source": [
    "import numpy as np\n",
    "import pandas as pd\n",
    "\n",
    "import psycopg2"
   ]
  },
  {
   "cell_type": "code",
   "outputs": [],
   "source": [
    "crm_events = pd.read_csv(\"data/CRM Events.csv\")\n",
    "crm_logs = pd.read_csv(\"data/CRM Call Center Logs.csv\")"
   ],
   "metadata": {
    "collapsed": false,
    "ExecuteTime": {
     "end_time": "2024-02-09T21:27:49.274787Z",
     "start_time": "2024-02-09T21:27:49.185179Z"
    }
   },
   "id": "b1da415eec44d141",
   "execution_count": 2
  },
  {
   "cell_type": "code",
   "outputs": [
    {
     "data": {
      "text/plain": "  Date received                  Product       Sub-product  \\\n0    2014-07-03  Bank account or service  Checking account   \n1    2012-04-12  Bank account or service   Savings account   \n2    2012-04-03  Bank account or service  Checking account   \n3    2012-03-14              Credit card               NaN   \n4    2012-03-05  Bank account or service  Checking account   \n\n                                     Issue  Sub-issue  \\\n0                 Deposits and withdrawals        NaN   \n1  Account opening, closing, or management        NaN   \n2  Account opening, closing, or management        NaN   \n3                         Billing disputes        NaN   \n4  Account opening, closing, or management        NaN   \n\n  Consumer complaint narrative Tags Consumer consent provided? Submitted via  \\\n0                          NaN  NaN                        NaN         Email   \n1                          NaN  NaN                        NaN         Email   \n2                          NaN  NaN                        NaN         Email   \n3                          NaN  NaN                        NaN         Email   \n4                          NaN  NaN                        NaN         Email   \n\n  Date sent to company Company response to consumer Timely response?  \\\n0           2014-07-09      Closed with explanation              Yes   \n1           2012-04-13           Closed with relief              Yes   \n2           2012-04-03        Closed without relief              Yes   \n3           2012-03-14           Closed with relief              Yes   \n4           2012-03-06           Closed with relief              Yes   \n\n  Consumer disputed? Complaint ID  Client_ID  \n0                 No    CR0922485  C00001925  \n1                 No    CR0057298  C00003141  \n2                 No    CR0043811  C00000297  \n3                 No    CR0035411  C00004275  \n4                 No    CR0030939  C00000900  ",
      "text/html": "<div>\n<style scoped>\n    .dataframe tbody tr th:only-of-type {\n        vertical-align: middle;\n    }\n\n    .dataframe tbody tr th {\n        vertical-align: top;\n    }\n\n    .dataframe thead th {\n        text-align: right;\n    }\n</style>\n<table border=\"1\" class=\"dataframe\">\n  <thead>\n    <tr style=\"text-align: right;\">\n      <th></th>\n      <th>Date received</th>\n      <th>Product</th>\n      <th>Sub-product</th>\n      <th>Issue</th>\n      <th>Sub-issue</th>\n      <th>Consumer complaint narrative</th>\n      <th>Tags</th>\n      <th>Consumer consent provided?</th>\n      <th>Submitted via</th>\n      <th>Date sent to company</th>\n      <th>Company response to consumer</th>\n      <th>Timely response?</th>\n      <th>Consumer disputed?</th>\n      <th>Complaint ID</th>\n      <th>Client_ID</th>\n    </tr>\n  </thead>\n  <tbody>\n    <tr>\n      <th>0</th>\n      <td>2014-07-03</td>\n      <td>Bank account or service</td>\n      <td>Checking account</td>\n      <td>Deposits and withdrawals</td>\n      <td>NaN</td>\n      <td>NaN</td>\n      <td>NaN</td>\n      <td>NaN</td>\n      <td>Email</td>\n      <td>2014-07-09</td>\n      <td>Closed with explanation</td>\n      <td>Yes</td>\n      <td>No</td>\n      <td>CR0922485</td>\n      <td>C00001925</td>\n    </tr>\n    <tr>\n      <th>1</th>\n      <td>2012-04-12</td>\n      <td>Bank account or service</td>\n      <td>Savings account</td>\n      <td>Account opening, closing, or management</td>\n      <td>NaN</td>\n      <td>NaN</td>\n      <td>NaN</td>\n      <td>NaN</td>\n      <td>Email</td>\n      <td>2012-04-13</td>\n      <td>Closed with relief</td>\n      <td>Yes</td>\n      <td>No</td>\n      <td>CR0057298</td>\n      <td>C00003141</td>\n    </tr>\n    <tr>\n      <th>2</th>\n      <td>2012-04-03</td>\n      <td>Bank account or service</td>\n      <td>Checking account</td>\n      <td>Account opening, closing, or management</td>\n      <td>NaN</td>\n      <td>NaN</td>\n      <td>NaN</td>\n      <td>NaN</td>\n      <td>Email</td>\n      <td>2012-04-03</td>\n      <td>Closed without relief</td>\n      <td>Yes</td>\n      <td>No</td>\n      <td>CR0043811</td>\n      <td>C00000297</td>\n    </tr>\n    <tr>\n      <th>3</th>\n      <td>2012-03-14</td>\n      <td>Credit card</td>\n      <td>NaN</td>\n      <td>Billing disputes</td>\n      <td>NaN</td>\n      <td>NaN</td>\n      <td>NaN</td>\n      <td>NaN</td>\n      <td>Email</td>\n      <td>2012-03-14</td>\n      <td>Closed with relief</td>\n      <td>Yes</td>\n      <td>No</td>\n      <td>CR0035411</td>\n      <td>C00004275</td>\n    </tr>\n    <tr>\n      <th>4</th>\n      <td>2012-03-05</td>\n      <td>Bank account or service</td>\n      <td>Checking account</td>\n      <td>Account opening, closing, or management</td>\n      <td>NaN</td>\n      <td>NaN</td>\n      <td>NaN</td>\n      <td>NaN</td>\n      <td>Email</td>\n      <td>2012-03-06</td>\n      <td>Closed with relief</td>\n      <td>Yes</td>\n      <td>No</td>\n      <td>CR0030939</td>\n      <td>C00000900</td>\n    </tr>\n  </tbody>\n</table>\n</div>"
     },
     "execution_count": 3,
     "metadata": {},
     "output_type": "execute_result"
    }
   ],
   "source": [
    "crm_events.head()"
   ],
   "metadata": {
    "collapsed": false,
    "ExecuteTime": {
     "end_time": "2024-02-09T21:27:49.294455Z",
     "start_time": "2024-02-09T21:27:49.278013Z"
    }
   },
   "id": "f9aa2b635b828f00",
   "execution_count": 3
  },
  {
   "cell_type": "code",
   "outputs": [
    {
     "name": "stdout",
     "output_type": "stream",
     "text": [
      "<class 'pandas.core.frame.DataFrame'>\n",
      "RangeIndex: 23419 entries, 0 to 23418\n",
      "Data columns (total 15 columns):\n",
      " #   Column                        Non-Null Count  Dtype  \n",
      "---  ------                        --------------  -----  \n",
      " 0   Date received                 23419 non-null  object \n",
      " 1   Product                       23419 non-null  object \n",
      " 2   Sub-product                   14091 non-null  object \n",
      " 3   Issue                         23419 non-null  object \n",
      " 4   Sub-issue                     0 non-null      float64\n",
      " 5   Consumer complaint narrative  4467 non-null   object \n",
      " 6   Tags                          3276 non-null   object \n",
      " 7   Consumer consent provided?    6872 non-null   object \n",
      " 8   Submitted via                 23419 non-null  object \n",
      " 9   Date sent to company          23419 non-null  object \n",
      " 10  Company response to consumer  23419 non-null  object \n",
      " 11  Timely response?              23419 non-null  object \n",
      " 12  Consumer disputed?            22417 non-null  object \n",
      " 13  Complaint ID                  23419 non-null  object \n",
      " 14  Client_ID                     23419 non-null  object \n",
      "dtypes: float64(1), object(14)\n",
      "memory usage: 2.7+ MB\n"
     ]
    }
   ],
   "source": [
    "crm_events.info()"
   ],
   "metadata": {
    "collapsed": false,
    "ExecuteTime": {
     "end_time": "2024-02-09T21:27:49.310868Z",
     "start_time": "2024-02-09T21:27:49.293171Z"
    }
   },
   "id": "a0bf4a484f394ad8",
   "execution_count": 4
  },
  {
   "cell_type": "code",
   "outputs": [
    {
     "data": {
      "text/plain": "     Date received Complaint ID rand client    phonefinal vru+line  call_id  \\\n0       2017-03-27    CR2406263   C00004587  977-806-9726   AA0103  34536.0   \n1       2017-03-27    CR2405641   C00003328  322-598-7152   AA0205  34537.0   \n2       2017-03-27    CR2405629   C00001685  508-311-5237   AA0110  34538.0   \n3       2017-03-23    CR2400594   C00001945  265-394-2727   AA0113  34540.0   \n4       2017-03-22    CR2399607   C00004303  206-008-0460   AA0102  34541.0   \n...            ...          ...         ...           ...      ...      ...   \n3994    2019-10-12          NaN         NaN  703-826-5722      NaN      NaN   \n3995    2014-11-03          NaN         NaN  387-514-1611      NaN      NaN   \n3996    2016-09-02          NaN         NaN  508-397-7936      NaN      NaN   \n3997    2015-02-03          NaN         NaN  883-529-9005      NaN      NaN   \n3998    2015-11-21          NaN         NaN  212-770-6755      NaN      NaN   \n\n      priority type outcome  server ser_start  ser_exit  ser_time  \n0          0.0   NW   AGENT  MICHAL  13:34:11  13:40:23  00:06:12  \n1          0.0   PS   AGENT    TOVA  10:58:22  11:16:10  00:17:48  \n2          2.0   PS   AGENT   YIFAT  13:00:54  13:13:31  00:12:37  \n3          2.0   PS   AGENT    AVNI  16:18:21  16:19:40  00:01:19  \n4          1.0   PS   AGENT  STEREN  14:48:22  14:55:19  00:06:57  \n...        ...  ...     ...     ...       ...       ...       ...  \n3994       NaN  NaN     NaN     NaN  15:48:32  16:07:39  00:19:07  \n3995       NaN  NaN     NaN     NaN  11:08:45  11:14:31  00:05:46  \n3996       NaN  NaN     NaN     NaN  13:08:09  13:24:05  00:15:56  \n3997       NaN  NaN     NaN     NaN  15:47:13  15:50:33  00:03:20  \n3998       NaN  NaN     NaN     NaN  10:20:04  10:26:11  00:06:07  \n\n[3999 rows x 13 columns]",
      "text/html": "<div>\n<style scoped>\n    .dataframe tbody tr th:only-of-type {\n        vertical-align: middle;\n    }\n\n    .dataframe tbody tr th {\n        vertical-align: top;\n    }\n\n    .dataframe thead th {\n        text-align: right;\n    }\n</style>\n<table border=\"1\" class=\"dataframe\">\n  <thead>\n    <tr style=\"text-align: right;\">\n      <th></th>\n      <th>Date received</th>\n      <th>Complaint ID</th>\n      <th>rand client</th>\n      <th>phonefinal</th>\n      <th>vru+line</th>\n      <th>call_id</th>\n      <th>priority</th>\n      <th>type</th>\n      <th>outcome</th>\n      <th>server</th>\n      <th>ser_start</th>\n      <th>ser_exit</th>\n      <th>ser_time</th>\n    </tr>\n  </thead>\n  <tbody>\n    <tr>\n      <th>0</th>\n      <td>2017-03-27</td>\n      <td>CR2406263</td>\n      <td>C00004587</td>\n      <td>977-806-9726</td>\n      <td>AA0103</td>\n      <td>34536.0</td>\n      <td>0.0</td>\n      <td>NW</td>\n      <td>AGENT</td>\n      <td>MICHAL</td>\n      <td>13:34:11</td>\n      <td>13:40:23</td>\n      <td>00:06:12</td>\n    </tr>\n    <tr>\n      <th>1</th>\n      <td>2017-03-27</td>\n      <td>CR2405641</td>\n      <td>C00003328</td>\n      <td>322-598-7152</td>\n      <td>AA0205</td>\n      <td>34537.0</td>\n      <td>0.0</td>\n      <td>PS</td>\n      <td>AGENT</td>\n      <td>TOVA</td>\n      <td>10:58:22</td>\n      <td>11:16:10</td>\n      <td>00:17:48</td>\n    </tr>\n    <tr>\n      <th>2</th>\n      <td>2017-03-27</td>\n      <td>CR2405629</td>\n      <td>C00001685</td>\n      <td>508-311-5237</td>\n      <td>AA0110</td>\n      <td>34538.0</td>\n      <td>2.0</td>\n      <td>PS</td>\n      <td>AGENT</td>\n      <td>YIFAT</td>\n      <td>13:00:54</td>\n      <td>13:13:31</td>\n      <td>00:12:37</td>\n    </tr>\n    <tr>\n      <th>3</th>\n      <td>2017-03-23</td>\n      <td>CR2400594</td>\n      <td>C00001945</td>\n      <td>265-394-2727</td>\n      <td>AA0113</td>\n      <td>34540.0</td>\n      <td>2.0</td>\n      <td>PS</td>\n      <td>AGENT</td>\n      <td>AVNI</td>\n      <td>16:18:21</td>\n      <td>16:19:40</td>\n      <td>00:01:19</td>\n    </tr>\n    <tr>\n      <th>4</th>\n      <td>2017-03-22</td>\n      <td>CR2399607</td>\n      <td>C00004303</td>\n      <td>206-008-0460</td>\n      <td>AA0102</td>\n      <td>34541.0</td>\n      <td>1.0</td>\n      <td>PS</td>\n      <td>AGENT</td>\n      <td>STEREN</td>\n      <td>14:48:22</td>\n      <td>14:55:19</td>\n      <td>00:06:57</td>\n    </tr>\n    <tr>\n      <th>...</th>\n      <td>...</td>\n      <td>...</td>\n      <td>...</td>\n      <td>...</td>\n      <td>...</td>\n      <td>...</td>\n      <td>...</td>\n      <td>...</td>\n      <td>...</td>\n      <td>...</td>\n      <td>...</td>\n      <td>...</td>\n      <td>...</td>\n    </tr>\n    <tr>\n      <th>3994</th>\n      <td>2019-10-12</td>\n      <td>NaN</td>\n      <td>NaN</td>\n      <td>703-826-5722</td>\n      <td>NaN</td>\n      <td>NaN</td>\n      <td>NaN</td>\n      <td>NaN</td>\n      <td>NaN</td>\n      <td>NaN</td>\n      <td>15:48:32</td>\n      <td>16:07:39</td>\n      <td>00:19:07</td>\n    </tr>\n    <tr>\n      <th>3995</th>\n      <td>2014-11-03</td>\n      <td>NaN</td>\n      <td>NaN</td>\n      <td>387-514-1611</td>\n      <td>NaN</td>\n      <td>NaN</td>\n      <td>NaN</td>\n      <td>NaN</td>\n      <td>NaN</td>\n      <td>NaN</td>\n      <td>11:08:45</td>\n      <td>11:14:31</td>\n      <td>00:05:46</td>\n    </tr>\n    <tr>\n      <th>3996</th>\n      <td>2016-09-02</td>\n      <td>NaN</td>\n      <td>NaN</td>\n      <td>508-397-7936</td>\n      <td>NaN</td>\n      <td>NaN</td>\n      <td>NaN</td>\n      <td>NaN</td>\n      <td>NaN</td>\n      <td>NaN</td>\n      <td>13:08:09</td>\n      <td>13:24:05</td>\n      <td>00:15:56</td>\n    </tr>\n    <tr>\n      <th>3997</th>\n      <td>2015-02-03</td>\n      <td>NaN</td>\n      <td>NaN</td>\n      <td>883-529-9005</td>\n      <td>NaN</td>\n      <td>NaN</td>\n      <td>NaN</td>\n      <td>NaN</td>\n      <td>NaN</td>\n      <td>NaN</td>\n      <td>15:47:13</td>\n      <td>15:50:33</td>\n      <td>00:03:20</td>\n    </tr>\n    <tr>\n      <th>3998</th>\n      <td>2015-11-21</td>\n      <td>NaN</td>\n      <td>NaN</td>\n      <td>212-770-6755</td>\n      <td>NaN</td>\n      <td>NaN</td>\n      <td>NaN</td>\n      <td>NaN</td>\n      <td>NaN</td>\n      <td>NaN</td>\n      <td>10:20:04</td>\n      <td>10:26:11</td>\n      <td>00:06:07</td>\n    </tr>\n  </tbody>\n</table>\n<p>3999 rows × 13 columns</p>\n</div>"
     },
     "execution_count": 5,
     "metadata": {},
     "output_type": "execute_result"
    }
   ],
   "source": [
    "crm_logs"
   ],
   "metadata": {
    "collapsed": false,
    "ExecuteTime": {
     "end_time": "2024-02-09T21:27:49.380720Z",
     "start_time": "2024-02-09T21:27:49.308257Z"
    }
   },
   "id": "837acd37d357b278",
   "execution_count": 5
  },
  {
   "cell_type": "code",
   "outputs": [
    {
     "name": "stdout",
     "output_type": "stream",
     "text": [
      "<class 'pandas.core.frame.DataFrame'>\n",
      "RangeIndex: 3999 entries, 0 to 3998\n",
      "Data columns (total 13 columns):\n",
      " #   Column         Non-Null Count  Dtype  \n",
      "---  ------         --------------  -----  \n",
      " 0   Date received  3999 non-null   object \n",
      " 1   Complaint ID   2504 non-null   object \n",
      " 2   rand client    2504 non-null   object \n",
      " 3   phonefinal     3999 non-null   object \n",
      " 4   vru+line       3015 non-null   object \n",
      " 5   call_id        3015 non-null   float64\n",
      " 6   priority       3015 non-null   float64\n",
      " 7   type           3015 non-null   object \n",
      " 8   outcome        3015 non-null   object \n",
      " 9   server         3015 non-null   object \n",
      " 10  ser_start      3999 non-null   object \n",
      " 11  ser_exit       3999 non-null   object \n",
      " 12  ser_time       3999 non-null   object \n",
      "dtypes: float64(2), object(11)\n",
      "memory usage: 406.3+ KB\n"
     ]
    }
   ],
   "source": [
    "crm_logs.info()"
   ],
   "metadata": {
    "collapsed": false,
    "ExecuteTime": {
     "end_time": "2024-02-09T21:27:49.383327Z",
     "start_time": "2024-02-09T21:27:49.312809Z"
    }
   },
   "id": "320316a77e5086b2",
   "execution_count": 6
  },
  {
   "cell_type": "markdown",
   "source": [
    "## Data Processing"
   ],
   "metadata": {
    "collapsed": false
   },
   "id": "1dcd8bb7b3431ce6"
  },
  {
   "cell_type": "markdown",
   "source": [
    "### Events data"
   ],
   "metadata": {
    "collapsed": false
   },
   "id": "24e9f5d8daa65dc8"
  },
  {
   "cell_type": "code",
   "outputs": [
    {
     "data": {
      "text/plain": "      Date received                  Product       Sub-product  \\\n0        2014-07-03  Bank account or service  Checking account   \n1        2012-04-12  Bank account or service   Savings account   \n2        2012-04-03  Bank account or service  Checking account   \n3        2012-03-14              Credit card               NaN   \n4        2012-03-05  Bank account or service  Checking account   \n...             ...                      ...               ...   \n23414    2017-03-23  Bank account or service  Checking account   \n23415    2017-03-24  Bank account or service   Savings account   \n23416    2017-03-27  Bank account or service  Checking account   \n23417    2017-03-27  Bank account or service  Checking account   \n23418    2017-03-27              Credit card               NaN   \n\n                                         Issue  Sub-issue  \\\n0                     Deposits and withdrawals        NaN   \n1      Account opening, closing, or management        NaN   \n2      Account opening, closing, or management        NaN   \n3                             Billing disputes        NaN   \n4      Account opening, closing, or management        NaN   \n...                                        ...        ...   \n23414  Account opening, closing, or management        NaN   \n23415                 Deposits and withdrawals        NaN   \n23416  Account opening, closing, or management        NaN   \n23417  Account opening, closing, or management        NaN   \n23418               Closing/Cancelling account        NaN   \n\n      Consumer complaint narrative            Tags Consumer consent provided?  \\\n0                              NaN             NaN                        NaN   \n1                              NaN             NaN                        NaN   \n2                              NaN             NaN                        NaN   \n3                              NaN             NaN                        NaN   \n4                              NaN             NaN                        NaN   \n...                            ...             ...                        ...   \n23414                          NaN             NaN                        NaN   \n23415                          NaN  Older American                        NaN   \n23416                          NaN  Older American                        NaN   \n23417                          NaN             NaN                        NaN   \n23418                          NaN   Servicemember                        NaN   \n\n      Submitted via Date sent to company Company response to consumer  \\\n0             Email           2014-07-09      Closed with explanation   \n1             Email           2012-04-13           Closed with relief   \n2             Email           2012-04-03        Closed without relief   \n3             Email           2012-03-14           Closed with relief   \n4             Email           2012-03-06           Closed with relief   \n...             ...                  ...                          ...   \n23414         Phone           2017-03-23      Closed with explanation   \n23415         Phone           2017-03-24      Closed with explanation   \n23416         Phone           2017-03-27                  In progress   \n23417         Phone           2017-03-27                  In progress   \n23418         Phone           2017-03-27                  In progress   \n\n      Timely response? Consumer disputed? Complaint ID  Client_ID  \n0                  Yes                 No    CR0922485  C00001925  \n1                  Yes                 No    CR0057298  C00003141  \n2                  Yes                 No    CR0043811  C00000297  \n3                  Yes                 No    CR0035411  C00004275  \n4                  Yes                 No    CR0030939  C00000900  \n...                ...                ...          ...        ...  \n23414              Yes                NaN    CR2400594  C00001945  \n23415              Yes                NaN    CR2403628  C00002421  \n23416              Yes                NaN    CR2405629  C00001685  \n23417              Yes                NaN    CR2405641  C00003328  \n23418              Yes                NaN    CR2406263  C00004587  \n\n[23419 rows x 15 columns]",
      "text/html": "<div>\n<style scoped>\n    .dataframe tbody tr th:only-of-type {\n        vertical-align: middle;\n    }\n\n    .dataframe tbody tr th {\n        vertical-align: top;\n    }\n\n    .dataframe thead th {\n        text-align: right;\n    }\n</style>\n<table border=\"1\" class=\"dataframe\">\n  <thead>\n    <tr style=\"text-align: right;\">\n      <th></th>\n      <th>Date received</th>\n      <th>Product</th>\n      <th>Sub-product</th>\n      <th>Issue</th>\n      <th>Sub-issue</th>\n      <th>Consumer complaint narrative</th>\n      <th>Tags</th>\n      <th>Consumer consent provided?</th>\n      <th>Submitted via</th>\n      <th>Date sent to company</th>\n      <th>Company response to consumer</th>\n      <th>Timely response?</th>\n      <th>Consumer disputed?</th>\n      <th>Complaint ID</th>\n      <th>Client_ID</th>\n    </tr>\n  </thead>\n  <tbody>\n    <tr>\n      <th>0</th>\n      <td>2014-07-03</td>\n      <td>Bank account or service</td>\n      <td>Checking account</td>\n      <td>Deposits and withdrawals</td>\n      <td>NaN</td>\n      <td>NaN</td>\n      <td>NaN</td>\n      <td>NaN</td>\n      <td>Email</td>\n      <td>2014-07-09</td>\n      <td>Closed with explanation</td>\n      <td>Yes</td>\n      <td>No</td>\n      <td>CR0922485</td>\n      <td>C00001925</td>\n    </tr>\n    <tr>\n      <th>1</th>\n      <td>2012-04-12</td>\n      <td>Bank account or service</td>\n      <td>Savings account</td>\n      <td>Account opening, closing, or management</td>\n      <td>NaN</td>\n      <td>NaN</td>\n      <td>NaN</td>\n      <td>NaN</td>\n      <td>Email</td>\n      <td>2012-04-13</td>\n      <td>Closed with relief</td>\n      <td>Yes</td>\n      <td>No</td>\n      <td>CR0057298</td>\n      <td>C00003141</td>\n    </tr>\n    <tr>\n      <th>2</th>\n      <td>2012-04-03</td>\n      <td>Bank account or service</td>\n      <td>Checking account</td>\n      <td>Account opening, closing, or management</td>\n      <td>NaN</td>\n      <td>NaN</td>\n      <td>NaN</td>\n      <td>NaN</td>\n      <td>Email</td>\n      <td>2012-04-03</td>\n      <td>Closed without relief</td>\n      <td>Yes</td>\n      <td>No</td>\n      <td>CR0043811</td>\n      <td>C00000297</td>\n    </tr>\n    <tr>\n      <th>3</th>\n      <td>2012-03-14</td>\n      <td>Credit card</td>\n      <td>NaN</td>\n      <td>Billing disputes</td>\n      <td>NaN</td>\n      <td>NaN</td>\n      <td>NaN</td>\n      <td>NaN</td>\n      <td>Email</td>\n      <td>2012-03-14</td>\n      <td>Closed with relief</td>\n      <td>Yes</td>\n      <td>No</td>\n      <td>CR0035411</td>\n      <td>C00004275</td>\n    </tr>\n    <tr>\n      <th>4</th>\n      <td>2012-03-05</td>\n      <td>Bank account or service</td>\n      <td>Checking account</td>\n      <td>Account opening, closing, or management</td>\n      <td>NaN</td>\n      <td>NaN</td>\n      <td>NaN</td>\n      <td>NaN</td>\n      <td>Email</td>\n      <td>2012-03-06</td>\n      <td>Closed with relief</td>\n      <td>Yes</td>\n      <td>No</td>\n      <td>CR0030939</td>\n      <td>C00000900</td>\n    </tr>\n    <tr>\n      <th>...</th>\n      <td>...</td>\n      <td>...</td>\n      <td>...</td>\n      <td>...</td>\n      <td>...</td>\n      <td>...</td>\n      <td>...</td>\n      <td>...</td>\n      <td>...</td>\n      <td>...</td>\n      <td>...</td>\n      <td>...</td>\n      <td>...</td>\n      <td>...</td>\n      <td>...</td>\n    </tr>\n    <tr>\n      <th>23414</th>\n      <td>2017-03-23</td>\n      <td>Bank account or service</td>\n      <td>Checking account</td>\n      <td>Account opening, closing, or management</td>\n      <td>NaN</td>\n      <td>NaN</td>\n      <td>NaN</td>\n      <td>NaN</td>\n      <td>Phone</td>\n      <td>2017-03-23</td>\n      <td>Closed with explanation</td>\n      <td>Yes</td>\n      <td>NaN</td>\n      <td>CR2400594</td>\n      <td>C00001945</td>\n    </tr>\n    <tr>\n      <th>23415</th>\n      <td>2017-03-24</td>\n      <td>Bank account or service</td>\n      <td>Savings account</td>\n      <td>Deposits and withdrawals</td>\n      <td>NaN</td>\n      <td>NaN</td>\n      <td>Older American</td>\n      <td>NaN</td>\n      <td>Phone</td>\n      <td>2017-03-24</td>\n      <td>Closed with explanation</td>\n      <td>Yes</td>\n      <td>NaN</td>\n      <td>CR2403628</td>\n      <td>C00002421</td>\n    </tr>\n    <tr>\n      <th>23416</th>\n      <td>2017-03-27</td>\n      <td>Bank account or service</td>\n      <td>Checking account</td>\n      <td>Account opening, closing, or management</td>\n      <td>NaN</td>\n      <td>NaN</td>\n      <td>Older American</td>\n      <td>NaN</td>\n      <td>Phone</td>\n      <td>2017-03-27</td>\n      <td>In progress</td>\n      <td>Yes</td>\n      <td>NaN</td>\n      <td>CR2405629</td>\n      <td>C00001685</td>\n    </tr>\n    <tr>\n      <th>23417</th>\n      <td>2017-03-27</td>\n      <td>Bank account or service</td>\n      <td>Checking account</td>\n      <td>Account opening, closing, or management</td>\n      <td>NaN</td>\n      <td>NaN</td>\n      <td>NaN</td>\n      <td>NaN</td>\n      <td>Phone</td>\n      <td>2017-03-27</td>\n      <td>In progress</td>\n      <td>Yes</td>\n      <td>NaN</td>\n      <td>CR2405641</td>\n      <td>C00003328</td>\n    </tr>\n    <tr>\n      <th>23418</th>\n      <td>2017-03-27</td>\n      <td>Credit card</td>\n      <td>NaN</td>\n      <td>Closing/Cancelling account</td>\n      <td>NaN</td>\n      <td>NaN</td>\n      <td>Servicemember</td>\n      <td>NaN</td>\n      <td>Phone</td>\n      <td>2017-03-27</td>\n      <td>In progress</td>\n      <td>Yes</td>\n      <td>NaN</td>\n      <td>CR2406263</td>\n      <td>C00004587</td>\n    </tr>\n  </tbody>\n</table>\n<p>23419 rows × 15 columns</p>\n</div>"
     },
     "execution_count": 7,
     "metadata": {},
     "output_type": "execute_result"
    }
   ],
   "source": [
    "crm_events"
   ],
   "metadata": {
    "collapsed": false,
    "ExecuteTime": {
     "end_time": "2024-02-09T21:27:49.542871Z",
     "start_time": "2024-02-09T21:27:49.496372Z"
    }
   },
   "id": "88e8edd7259a3bff",
   "execution_count": 7
  },
  {
   "cell_type": "code",
   "outputs": [
    {
     "name": "stdout",
     "output_type": "stream",
     "text": [
      "<class 'pandas.core.frame.DataFrame'>\n",
      "RangeIndex: 23419 entries, 0 to 23418\n",
      "Data columns (total 15 columns):\n",
      " #   Column                        Non-Null Count  Dtype  \n",
      "---  ------                        --------------  -----  \n",
      " 0   Date received                 23419 non-null  object \n",
      " 1   Product                       23419 non-null  object \n",
      " 2   Sub-product                   14091 non-null  object \n",
      " 3   Issue                         23419 non-null  object \n",
      " 4   Sub-issue                     0 non-null      float64\n",
      " 5   Consumer complaint narrative  4467 non-null   object \n",
      " 6   Tags                          3276 non-null   object \n",
      " 7   Consumer consent provided?    6872 non-null   object \n",
      " 8   Submitted via                 23419 non-null  object \n",
      " 9   Date sent to company          23419 non-null  object \n",
      " 10  Company response to consumer  23419 non-null  object \n",
      " 11  Timely response?              23419 non-null  object \n",
      " 12  Consumer disputed?            22417 non-null  object \n",
      " 13  Complaint ID                  23419 non-null  object \n",
      " 14  Client_ID                     23419 non-null  object \n",
      "dtypes: float64(1), object(14)\n",
      "memory usage: 2.7+ MB\n"
     ]
    }
   ],
   "source": [
    "crm_events.info()"
   ],
   "metadata": {
    "collapsed": false,
    "ExecuteTime": {
     "end_time": "2024-02-09T21:27:50.652430Z",
     "start_time": "2024-02-09T21:27:50.637085Z"
    }
   },
   "id": "572c60274f86f230",
   "execution_count": 8
  },
  {
   "cell_type": "code",
   "outputs": [],
   "source": [
    "crm_events[\"Date received\"] = pd.to_datetime(crm_events[\"Date received\"])\n",
    "crm_events[\"Date sent to company\"] = pd.to_datetime(crm_events[\"Date sent to company\"])"
   ],
   "metadata": {
    "collapsed": false,
    "ExecuteTime": {
     "end_time": "2024-02-09T21:27:54.684648Z",
     "start_time": "2024-02-09T21:27:54.672174Z"
    }
   },
   "id": "931873bee5d0d019",
   "execution_count": 9
  },
  {
   "cell_type": "code",
   "outputs": [],
   "source": [
    "cols = \"Consumer complaint narrative\"\n",
    "crm_events[cols].apply(lambda x: len(x) if isinstance(x,str) else x).sort_values(ascending=False)\n",
    "\n",
    "crm_events.drop(cols,axis = 1,inplace=True)"
   ],
   "metadata": {
    "collapsed": false,
    "ExecuteTime": {
     "end_time": "2024-02-09T21:27:54.957239Z",
     "start_time": "2024-02-09T21:27:54.922361Z"
    }
   },
   "id": "5f2f37e2c6dab3f3",
   "execution_count": 10
  },
  {
   "cell_type": "code",
   "outputs": [
    {
     "data": {
      "text/plain": "Series([], Name: count, dtype: int64)"
     },
     "execution_count": 11,
     "metadata": {},
     "output_type": "execute_result"
    }
   ],
   "source": [
    "crm_events[\"Sub-issue\"].value_counts()"
   ],
   "metadata": {
    "collapsed": false,
    "ExecuteTime": {
     "end_time": "2024-02-09T21:27:55.269535Z",
     "start_time": "2024-02-09T21:27:55.247304Z"
    }
   },
   "id": "23d90d3ea1ae8cea",
   "execution_count": 11
  },
  {
   "cell_type": "markdown",
   "source": [
    "this variable, Sub-issue, will be dropped later"
   ],
   "metadata": {
    "collapsed": false
   },
   "id": "d2530e6c7b404d50"
  },
  {
   "cell_type": "code",
   "outputs": [],
   "source": [
    "crm_events.drop(\"Sub-issue\", axis=1, inplace=True)"
   ],
   "metadata": {
    "collapsed": false,
    "ExecuteTime": {
     "end_time": "2024-02-09T21:28:58.841051Z",
     "start_time": "2024-02-09T21:28:58.821978Z"
    }
   },
   "id": "d0ac4652c69a347c",
   "execution_count": 12
  },
  {
   "cell_type": "markdown",
   "source": [
    "## logs"
   ],
   "metadata": {
    "collapsed": false
   },
   "id": "e0cfcd9bc5c07ea6"
  },
  {
   "cell_type": "code",
   "outputs": [],
   "source": [
    "crm_logs[\"Date received\"] = pd.to_datetime(crm_logs[\"Date received\"])"
   ],
   "metadata": {
    "collapsed": false,
    "ExecuteTime": {
     "end_time": "2024-02-09T21:28:59.433969Z",
     "start_time": "2024-02-09T21:28:59.428767Z"
    }
   },
   "id": "fdd7a8a61dc38189",
   "execution_count": 13
  },
  {
   "cell_type": "code",
   "outputs": [],
   "source": [
    "crm_logs[[\"call_id\", \"priority\"]] = crm_logs[[\"call_id\", \"priority\"]].astype(str)\n",
    "crm_logs[\"call_id\"] = crm_logs[\"call_id\"].apply(lambda x: int(float(x)) if isinstance(float(x),float) and pd.notnull(float(x)) else x)\n",
    "crm_logs[\"priority\"] = crm_logs[\"priority\"].apply(lambda x: int(float(x)) if isinstance(float(x),float) and pd.notnull(float(x)) else x)"
   ],
   "metadata": {
    "collapsed": false,
    "ExecuteTime": {
     "end_time": "2024-02-09T21:28:59.917782Z",
     "start_time": "2024-02-09T21:28:59.889729Z"
    }
   },
   "id": "461d878c571d894",
   "execution_count": 14
  },
  {
   "cell_type": "code",
   "outputs": [
    {
     "data": {
      "text/plain": "     Date received Complaint ID rand client    phonefinal vru+line call_id  \\\n0       2017-03-27    CR2406263   C00004587  977-806-9726   AA0103   34536   \n1       2017-03-27    CR2405641   C00003328  322-598-7152   AA0205   34537   \n2       2017-03-27    CR2405629   C00001685  508-311-5237   AA0110   34538   \n3       2017-03-23    CR2400594   C00001945  265-394-2727   AA0113   34540   \n4       2017-03-22    CR2399607   C00004303  206-008-0460   AA0102   34541   \n...            ...          ...         ...           ...      ...     ...   \n3994    2019-10-12          NaN         NaN  703-826-5722      NaN     nan   \n3995    2014-11-03          NaN         NaN  387-514-1611      NaN     nan   \n3996    2016-09-02          NaN         NaN  508-397-7936      NaN     nan   \n3997    2015-02-03          NaN         NaN  883-529-9005      NaN     nan   \n3998    2015-11-21          NaN         NaN  212-770-6755      NaN     nan   \n\n     priority type outcome  server ser_start  ser_exit  ser_time  \n0           0   NW   AGENT  MICHAL  13:34:11  13:40:23  00:06:12  \n1           0   PS   AGENT    TOVA  10:58:22  11:16:10  00:17:48  \n2           2   PS   AGENT   YIFAT  13:00:54  13:13:31  00:12:37  \n3           2   PS   AGENT    AVNI  16:18:21  16:19:40  00:01:19  \n4           1   PS   AGENT  STEREN  14:48:22  14:55:19  00:06:57  \n...       ...  ...     ...     ...       ...       ...       ...  \n3994      nan  NaN     NaN     NaN  15:48:32  16:07:39  00:19:07  \n3995      nan  NaN     NaN     NaN  11:08:45  11:14:31  00:05:46  \n3996      nan  NaN     NaN     NaN  13:08:09  13:24:05  00:15:56  \n3997      nan  NaN     NaN     NaN  15:47:13  15:50:33  00:03:20  \n3998      nan  NaN     NaN     NaN  10:20:04  10:26:11  00:06:07  \n\n[3999 rows x 13 columns]",
      "text/html": "<div>\n<style scoped>\n    .dataframe tbody tr th:only-of-type {\n        vertical-align: middle;\n    }\n\n    .dataframe tbody tr th {\n        vertical-align: top;\n    }\n\n    .dataframe thead th {\n        text-align: right;\n    }\n</style>\n<table border=\"1\" class=\"dataframe\">\n  <thead>\n    <tr style=\"text-align: right;\">\n      <th></th>\n      <th>Date received</th>\n      <th>Complaint ID</th>\n      <th>rand client</th>\n      <th>phonefinal</th>\n      <th>vru+line</th>\n      <th>call_id</th>\n      <th>priority</th>\n      <th>type</th>\n      <th>outcome</th>\n      <th>server</th>\n      <th>ser_start</th>\n      <th>ser_exit</th>\n      <th>ser_time</th>\n    </tr>\n  </thead>\n  <tbody>\n    <tr>\n      <th>0</th>\n      <td>2017-03-27</td>\n      <td>CR2406263</td>\n      <td>C00004587</td>\n      <td>977-806-9726</td>\n      <td>AA0103</td>\n      <td>34536</td>\n      <td>0</td>\n      <td>NW</td>\n      <td>AGENT</td>\n      <td>MICHAL</td>\n      <td>13:34:11</td>\n      <td>13:40:23</td>\n      <td>00:06:12</td>\n    </tr>\n    <tr>\n      <th>1</th>\n      <td>2017-03-27</td>\n      <td>CR2405641</td>\n      <td>C00003328</td>\n      <td>322-598-7152</td>\n      <td>AA0205</td>\n      <td>34537</td>\n      <td>0</td>\n      <td>PS</td>\n      <td>AGENT</td>\n      <td>TOVA</td>\n      <td>10:58:22</td>\n      <td>11:16:10</td>\n      <td>00:17:48</td>\n    </tr>\n    <tr>\n      <th>2</th>\n      <td>2017-03-27</td>\n      <td>CR2405629</td>\n      <td>C00001685</td>\n      <td>508-311-5237</td>\n      <td>AA0110</td>\n      <td>34538</td>\n      <td>2</td>\n      <td>PS</td>\n      <td>AGENT</td>\n      <td>YIFAT</td>\n      <td>13:00:54</td>\n      <td>13:13:31</td>\n      <td>00:12:37</td>\n    </tr>\n    <tr>\n      <th>3</th>\n      <td>2017-03-23</td>\n      <td>CR2400594</td>\n      <td>C00001945</td>\n      <td>265-394-2727</td>\n      <td>AA0113</td>\n      <td>34540</td>\n      <td>2</td>\n      <td>PS</td>\n      <td>AGENT</td>\n      <td>AVNI</td>\n      <td>16:18:21</td>\n      <td>16:19:40</td>\n      <td>00:01:19</td>\n    </tr>\n    <tr>\n      <th>4</th>\n      <td>2017-03-22</td>\n      <td>CR2399607</td>\n      <td>C00004303</td>\n      <td>206-008-0460</td>\n      <td>AA0102</td>\n      <td>34541</td>\n      <td>1</td>\n      <td>PS</td>\n      <td>AGENT</td>\n      <td>STEREN</td>\n      <td>14:48:22</td>\n      <td>14:55:19</td>\n      <td>00:06:57</td>\n    </tr>\n    <tr>\n      <th>...</th>\n      <td>...</td>\n      <td>...</td>\n      <td>...</td>\n      <td>...</td>\n      <td>...</td>\n      <td>...</td>\n      <td>...</td>\n      <td>...</td>\n      <td>...</td>\n      <td>...</td>\n      <td>...</td>\n      <td>...</td>\n      <td>...</td>\n    </tr>\n    <tr>\n      <th>3994</th>\n      <td>2019-10-12</td>\n      <td>NaN</td>\n      <td>NaN</td>\n      <td>703-826-5722</td>\n      <td>NaN</td>\n      <td>nan</td>\n      <td>nan</td>\n      <td>NaN</td>\n      <td>NaN</td>\n      <td>NaN</td>\n      <td>15:48:32</td>\n      <td>16:07:39</td>\n      <td>00:19:07</td>\n    </tr>\n    <tr>\n      <th>3995</th>\n      <td>2014-11-03</td>\n      <td>NaN</td>\n      <td>NaN</td>\n      <td>387-514-1611</td>\n      <td>NaN</td>\n      <td>nan</td>\n      <td>nan</td>\n      <td>NaN</td>\n      <td>NaN</td>\n      <td>NaN</td>\n      <td>11:08:45</td>\n      <td>11:14:31</td>\n      <td>00:05:46</td>\n    </tr>\n    <tr>\n      <th>3996</th>\n      <td>2016-09-02</td>\n      <td>NaN</td>\n      <td>NaN</td>\n      <td>508-397-7936</td>\n      <td>NaN</td>\n      <td>nan</td>\n      <td>nan</td>\n      <td>NaN</td>\n      <td>NaN</td>\n      <td>NaN</td>\n      <td>13:08:09</td>\n      <td>13:24:05</td>\n      <td>00:15:56</td>\n    </tr>\n    <tr>\n      <th>3997</th>\n      <td>2015-02-03</td>\n      <td>NaN</td>\n      <td>NaN</td>\n      <td>883-529-9005</td>\n      <td>NaN</td>\n      <td>nan</td>\n      <td>nan</td>\n      <td>NaN</td>\n      <td>NaN</td>\n      <td>NaN</td>\n      <td>15:47:13</td>\n      <td>15:50:33</td>\n      <td>00:03:20</td>\n    </tr>\n    <tr>\n      <th>3998</th>\n      <td>2015-11-21</td>\n      <td>NaN</td>\n      <td>NaN</td>\n      <td>212-770-6755</td>\n      <td>NaN</td>\n      <td>nan</td>\n      <td>nan</td>\n      <td>NaN</td>\n      <td>NaN</td>\n      <td>NaN</td>\n      <td>10:20:04</td>\n      <td>10:26:11</td>\n      <td>00:06:07</td>\n    </tr>\n  </tbody>\n</table>\n<p>3999 rows × 13 columns</p>\n</div>"
     },
     "execution_count": 15,
     "metadata": {},
     "output_type": "execute_result"
    }
   ],
   "source": [
    "crm_logs"
   ],
   "metadata": {
    "collapsed": false,
    "ExecuteTime": {
     "end_time": "2024-02-09T21:29:02.888192Z",
     "start_time": "2024-02-09T21:29:02.859657Z"
    }
   },
   "id": "675c7274b470a642",
   "execution_count": 15
  },
  {
   "cell_type": "markdown",
   "source": [
    "## Init Databse"
   ],
   "metadata": {
    "collapsed": false
   },
   "id": "f5c544a9457ec84e"
  },
  {
   "cell_type": "code",
   "outputs": [],
   "source": [
    "crm_events.columns = [i.lower().replace(' ', '_').replace('-', '_').replace(\"?\", \"\") for i in crm_events.columns]\n",
    "crm_logs.columns = [i.lower().replace(' ', '_').replace('-', '_').replace(\"+\", \"_\") for i in crm_logs.columns]"
   ],
   "metadata": {
    "collapsed": false,
    "ExecuteTime": {
     "end_time": "2024-02-09T21:34:39.350385Z",
     "start_time": "2024-02-09T21:34:39.305906Z"
    }
   },
   "id": "f7418d01c808a63e",
   "execution_count": 25
  },
  {
   "cell_type": "code",
   "outputs": [
    {
     "name": "stdout",
     "output_type": "stream",
     "text": [
      "Index(['date_received', 'product', 'sub_product', 'issue', 'tags',\n",
      "       'consumer_consent_provided', 'submitted_via', 'date_sent_to_company',\n",
      "       'company_response_to_consumer', 'timely_response', 'consumer_disputed',\n",
      "       'complaint_id', 'client_id'],\n",
      "      dtype='object') Index(['date_received', 'complaint_id', 'rand_client', 'phonefinal',\n",
      "       'vru_line', 'call_id', 'priority', 'type', 'outcome', 'server',\n",
      "       'ser_start', 'ser_exit', 'ser_time'],\n",
      "      dtype='object')\n"
     ]
    }
   ],
   "source": [
    "print(crm_events.columns, crm_logs.columns)"
   ],
   "metadata": {
    "collapsed": false,
    "ExecuteTime": {
     "end_time": "2024-02-09T21:34:39.905834Z",
     "start_time": "2024-02-09T21:34:39.896927Z"
    }
   },
   "id": "251bf47da4a47969",
   "execution_count": 26
  },
  {
   "cell_type": "markdown",
   "source": [],
   "metadata": {
    "collapsed": false
   },
   "id": "fbbef8960927f64c"
  },
  {
   "cell_type": "code",
   "outputs": [],
   "source": [
    "# Connect to your PostgreSQL database\n",
    "conn = psycopg2.connect(\n",
    "    dbname=\"mobile_bank\",\n",
    "    user=\"postgres\",\n",
    "    password=\"bandung1\",\n",
    "    host=\"localhost\",\n",
    "    port=\"5433\"\n",
    ")\n",
    "# Create a cursor object\n",
    "cur = conn.cursor()\n"
   ],
   "metadata": {
    "collapsed": false,
    "ExecuteTime": {
     "end_time": "2024-02-09T21:34:47.606099Z",
     "start_time": "2024-02-09T21:34:47.560433Z"
    }
   },
   "id": "177769cd1ba441c7",
   "execution_count": 27
  },
  {
   "cell_type": "code",
   "outputs": [
    {
     "name": "stdout",
     "output_type": "stream",
     "text": [
      "0 date_received datetime64[ns]\n",
      "1 product object\n",
      "2 sub_product object\n",
      "3 issue object\n",
      "4 tags object\n",
      "5 consumer_consent_provided object\n",
      "6 submitted_via object\n",
      "7 date_sent_to_company datetime64[ns]\n",
      "8 company_response_to_consumer object\n",
      "9 timely_response object\n",
      "10 consumer_disputed object\n",
      "11 complaint_id object\n",
      "12 client_id object\n",
      "============================================================\n",
      "0\tdate_received\tdatetime64[ns]\n",
      "1\tcomplaint_id\tobject\n",
      "2\trand_client\tobject\n",
      "3\tphonefinal\tobject\n",
      "4\tvru_line\tobject\n",
      "5\tcall_id\tobject\n",
      "6\tpriority\tobject\n",
      "7\ttype\tobject\n",
      "8\toutcome\tobject\n",
      "9\tserver\tobject\n",
      "10\tser_start\tobject\n",
      "11\tser_exit\tobject\n",
      "12\tser_time\tobject\n"
     ]
    }
   ],
   "source": [
    "# Get column names and data types from the DataFrame\n",
    "column_names_crm_events = crm_events.columns.tolist()\n",
    "data_types_crm_events = crm_events.dtypes.tolist()\n",
    "\n",
    "\n",
    "\n",
    "column_names_crm_logs = crm_logs.columns.tolist()\n",
    "data_types_crm_logs = crm_logs.dtypes.tolist()\n",
    "\n",
    "for _, i in enumerate(zip(column_names_crm_events, data_types_crm_events)):\n",
    "    print(_, i[0], i[1])\n",
    "print(\"===\"*20)\n",
    "for _, i in enumerate(zip(column_names_crm_logs, data_types_crm_logs)):\n",
    "    print(_, i[0], i[1], sep=\"\\t\")"
   ],
   "metadata": {
    "collapsed": false,
    "ExecuteTime": {
     "end_time": "2024-02-09T21:34:50.365386Z",
     "start_time": "2024-02-09T21:34:50.350681Z"
    }
   },
   "id": "6a0be714f2deb03a",
   "execution_count": 28
  },
  {
   "cell_type": "code",
   "outputs": [],
   "source": [],
   "metadata": {
    "collapsed": false,
    "ExecuteTime": {
     "end_time": "2024-02-09T07:39:00.949658Z",
     "start_time": "2024-02-09T07:39:00.899975Z"
    }
   },
   "id": "ba65af4248a0d31d",
   "execution_count": 157
  },
  {
   "cell_type": "markdown",
   "source": [],
   "metadata": {
    "collapsed": false
   },
   "id": "e9eb012076c3b9c"
  },
  {
   "cell_type": "code",
   "outputs": [],
   "source": [
    "###  CONFIG\n",
    "\n",
    "data_type = {\n",
    "    \"CRM_events\": [\"VARCHAR(255)\" if i not in [\"date_received\", \"date_sent_to_company\"] else \"DATE\" for i in crm_events.columns],\n",
    "    \"call_center_logs\":\n",
    "        [\"VARCHAR(255)\" if i not in [\"date_received\"] else \"DATE\" for i in crm_logs.columns[:-3]]\n",
    "}\n",
    "# adding for ser_start, ser_exit, ser_time\n",
    "add = [\"TIME\", \"TIME\", \"TIME\"]\n",
    "for d in add:\n",
    "    data_type[\"call_center_logs\"].append(d)\n",
    "data = {\n",
    "    \"CRM_events\":{\n",
    "        \"data\":crm_events,\n",
    "        \"cols_name\":column_names_crm_events,\n",
    "        \"cols_type\":data_type[\"CRM_events\"]\n",
    "    },\n",
    "    \"call_center_logs\":{\n",
    "        \"data\":crm_logs,\n",
    "        \"cols_name\":column_names_crm_logs,\n",
    "        \"cols_type\":data_type[\"call_center_logs\"]\n",
    "    }\n",
    "}"
   ],
   "metadata": {
    "collapsed": false,
    "ExecuteTime": {
     "end_time": "2024-02-09T21:35:30.910208Z",
     "start_time": "2024-02-09T21:35:30.874565Z"
    }
   },
   "id": "a4fcc71694c3a213",
   "execution_count": 29
  },
  {
   "cell_type": "markdown",
   "source": [
    "\n",
    "creating database"
   ],
   "metadata": {
    "collapsed": false
   },
   "id": "f3508852bacf31c1"
  },
  {
   "cell_type": "code",
   "outputs": [
    {
     "name": "stdout",
     "output_type": "stream",
     "text": [
      "CREATE TABLE IF NOT EXISTS CRM_events (\n",
      "\"date_received\" DATE,\n",
      "\"product\" VARCHAR(255),\n",
      "\"sub_product\" VARCHAR(255),\n",
      "\"issue\" VARCHAR(255),\n",
      "\"tags\" VARCHAR(255),\n",
      "\"consumer_consent_provided\" VARCHAR(255),\n",
      "\"submitted_via\" VARCHAR(255),\n",
      "\"date_sent_to_company\" DATE,\n",
      "\"company_response_to_consumer\" VARCHAR(255),\n",
      "\"timely_response\" VARCHAR(255),\n",
      "\"consumer_disputed\" VARCHAR(255),\n",
      "\"complaint_id\" VARCHAR(255),\n",
      "\"client_id\" VARCHAR(255))\n",
      "\n",
      "\n",
      "CREATE TABLE IF NOT EXISTS call_center_logs (\n",
      "\"date_received\" DATE,\n",
      "\"complaint_id\" VARCHAR(255),\n",
      "\"rand_client\" VARCHAR(255),\n",
      "\"phonefinal\" VARCHAR(255),\n",
      "\"vru_line\" VARCHAR(255),\n",
      "\"call_id\" VARCHAR(255),\n",
      "\"priority\" VARCHAR(255),\n",
      "\"type\" VARCHAR(255),\n",
      "\"outcome\" VARCHAR(255),\n",
      "\"server\" VARCHAR(255),\n",
      "\"ser_start\" TIME,\n",
      "\"ser_exit\" TIME,\n",
      "\"ser_time\" TIME)\n"
     ]
    }
   ],
   "source": [
    "for d in data.keys():\n",
    "    try:\n",
    "        # Construct the CREATE TABLE statement\n",
    "        create_table_query = f\"CREATE TABLE IF NOT EXISTS {d} (\"\n",
    "        for column_name, data_type in zip(data[d][\"cols_name\"], data[d][\"cols_type\"]):\n",
    "            create_table_query += f'\\n\"{column_name}\" {data_type},'\n",
    "    \n",
    "        create_table_query = create_table_query[:-1] + \")\"\n",
    "        print(create_table_query)\n",
    "        # Execute the CREATE TABLE statement\n",
    "        cur.execute(create_table_query)\n",
    "        conn.commit()\n",
    "    # Your code to execute SQL queries goes here\n",
    "    except psycopg2.Error as e:\n",
    "        print(\"Error:\", e)\n",
    "        conn.rollback()  # Roll back the transaction to its starting point\n",
    "    print(\"\\n\")\n",
    "    "
   ],
   "metadata": {
    "collapsed": false,
    "ExecuteTime": {
     "end_time": "2024-02-09T21:35:35.476505Z",
     "start_time": "2024-02-09T21:35:35.450410Z"
    }
   },
   "id": "5aaf4778e053df77",
   "execution_count": 30
  },
  {
   "cell_type": "markdown",
   "source": [
    "inserting database values"
   ],
   "metadata": {
    "collapsed": false
   },
   "id": "59b346e3fe38f1c9"
  },
  {
   "cell_type": "code",
   "outputs": [],
   "source": [
    "crm_events.to_csv(\"data/terbaru_crm.csv\", index=False)\n",
    "crm_logs.to_csv(\"data/terbaru_logs.csv\", index=False)"
   ],
   "metadata": {
    "collapsed": false,
    "ExecuteTime": {
     "end_time": "2024-02-09T21:35:47.044009Z",
     "start_time": "2024-02-09T21:35:46.942465Z"
    }
   },
   "id": "c3d52d1dc76b96dc",
   "execution_count": 31
  },
  {
   "cell_type": "code",
   "outputs": [
    {
     "name": "stderr",
     "output_type": "stream",
     "text": [
      "IOPub data rate exceeded.\n",
      "The Jupyter server will temporarily stop sending output\n",
      "to the client in order to avoid crashing it.\n",
      "To change this limit, set the config variable\n",
      "`--ServerApp.iopub_data_rate_limit`.\n",
      "\n",
      "Current values:\n",
      "ServerApp.iopub_data_rate_limit=1000000.0 (bytes/sec)\n",
      "ServerApp.rate_limit_window=3.0 (secs)\n",
      "\n"
     ]
    }
   ],
   "source": [
    "for d in data.keys():\n",
    "    try:\n",
    "        # Insert data into the table\n",
    "        for row in data[d][\"data\"].itertuples(index=False, name=None):\n",
    "            insert_query = f\"INSERT INTO {d} VALUES ( {row} )\"\n",
    "            try:\n",
    "                #cur.execute(insert_query, row)\n",
    "                print(insert_query, row)\n",
    "            except psycopg2.Error as e:\n",
    "                print(f\"Error inserting row into table {d}: {e}\")\n",
    "        # Commit the transaction\n",
    "        conn.commit()\n",
    "    except psycopg2.Error as e:\n",
    "        print(\"Error:\", e)\n",
    "        conn.rollback()  # Roll back the transaction to its starting point"
   ],
   "metadata": {
    "collapsed": false,
    "ExecuteTime": {
     "end_time": "2024-02-09T21:35:49.463943Z",
     "start_time": "2024-02-09T21:35:49.207378Z"
    }
   },
   "id": "89ce2c337391be8c",
   "execution_count": 32
  },
  {
   "cell_type": "code",
   "outputs": [],
   "source": [],
   "metadata": {
    "collapsed": false
   },
   "id": "2e10f2b6a89a192"
  }
 ],
 "metadata": {
  "kernelspec": {
   "display_name": "Python 3",
   "language": "python",
   "name": "python3"
  },
  "language_info": {
   "codemirror_mode": {
    "name": "ipython",
    "version": 2
   },
   "file_extension": ".py",
   "mimetype": "text/x-python",
   "name": "python",
   "nbconvert_exporter": "python",
   "pygments_lexer": "ipython2",
   "version": "2.7.6"
  }
 },
 "nbformat": 4,
 "nbformat_minor": 5
}
