{
 "cells": [
  {
   "cell_type": "markdown",
   "source": [],
   "metadata": {
    "collapsed": false
   },
   "id": "83821205267675d5"
  },
  {
   "cell_type": "markdown",
   "source": [
    "## Task 2\n",
    "Import the Luxury Loan Portfolio into pandas dataframes and use Plotly dash to create a web app that displays 3 charts of different types that show interesting business metrics."
   ],
   "metadata": {
    "collapsed": false
   },
   "id": "4b888b66da1b2206"
  },
  {
   "cell_type": "code",
   "execution_count": 1,
   "id": "initial_id",
   "metadata": {
    "collapsed": true,
    "ExecuteTime": {
     "end_time": "2024-02-09T02:20:32.900041Z",
     "start_time": "2024-02-09T02:20:32.897400Z"
    }
   },
   "outputs": [],
   "source": [
    "import numpy as np\n",
    "import pandas as pd\n",
    "\n",
    "import matplotlib.pyplot as plt\n",
    "import seaborn as sns"
   ]
  },
  {
   "cell_type": "code",
   "outputs": [
    {
     "name": "stdout",
     "output_type": "stream",
     "text": [
      "<class 'pandas.core.frame.DataFrame'>\n",
      "RangeIndex: 1678 entries, 0 to 1677\n",
      "Data columns (total 32 columns):\n",
      " #   Column                            Non-Null Count  Dtype  \n",
      "---  ------                            --------------  -----  \n",
      " 0   loan_id                           1678 non-null   object \n",
      " 1   funded_amount                     1678 non-null   float64\n",
      " 2   funded_date                       1678 non-null   object \n",
      " 3   duration years                    1678 non-null   int64  \n",
      " 4   duration months                   1678 non-null   int64  \n",
      " 5   10 yr treasury index date funded  1678 non-null   float64\n",
      " 6   interest rate percent             1678 non-null   float64\n",
      " 7   interest rate                     1678 non-null   float64\n",
      " 8   payments                          1678 non-null   float64\n",
      " 9   total past payments               1678 non-null   int64  \n",
      " 10  loan balance                      1678 non-null   float64\n",
      " 11  property value                    1678 non-null   float64\n",
      " 12  purpose                           1678 non-null   object \n",
      " 13  firstname                         1678 non-null   object \n",
      " 14  middlename                        1678 non-null   object \n",
      " 15  lastname                          1678 non-null   object \n",
      " 16  social                            1678 non-null   object \n",
      " 17  phone                             1678 non-null   object \n",
      " 18  title                             1666 non-null   object \n",
      " 19  employment length                 1678 non-null   int64  \n",
      " 20  BUILDING CLASS CATEGORY           1678 non-null   object \n",
      " 21  TAX CLASS AT PRESENT              1678 non-null   object \n",
      " 22  BUILDING CLASS AT PRESENT         1678 non-null   object \n",
      " 23  ADDRESS 1                         1678 non-null   object \n",
      " 24  ADDRESS 2                         1678 non-null   object \n",
      " 25  ZIP CODE                          1678 non-null   int64  \n",
      " 26  CITY                              1678 non-null   object \n",
      " 27  STATE                             1678 non-null   object \n",
      " 28  TOTAL UNITS                       1678 non-null   int64  \n",
      " 29  LAND SQUARE FEET                  1678 non-null   object \n",
      " 30  GROSS SQUARE FEET                 1678 non-null   object \n",
      " 31  TAX CLASS AT TIME OF SALE         1678 non-null   int64  \n",
      "dtypes: float64(7), int64(7), object(18)\n",
      "memory usage: 419.6+ KB\n"
     ]
    }
   ],
   "source": [
    "data = pd.read_csv(\"data/LuxuryLoanPortfolio.csv\")\n",
    "\n",
    "data.info()"
   ],
   "metadata": {
    "collapsed": false,
    "ExecuteTime": {
     "end_time": "2024-02-09T02:20:32.927656Z",
     "start_time": "2024-02-09T02:20:32.899694Z"
    }
   },
   "id": "6d0fadbfab01409a",
   "execution_count": 2
  },
  {
   "cell_type": "code",
   "outputs": [
    {
     "data": {
      "text/plain": "     loan_id  funded_amount funded_date  duration years  duration months  \\\n0  LL0000076       790000.0  2012-04-27              20              240   \n1  LL0000151      1720000.0  2014-10-14              15              180   \n2  LL0000161      3720000.0  2014-06-07              15              180   \n3  LL0000175      1079000.0  2012-02-23              20              240   \n4  LL0000178      2028000.0  2016-04-01              20              240   \n\n   10 yr treasury index date funded  interest rate percent  interest rate  \\\n0                              1.96                  3.359        0.03359   \n1                              2.21                  3.508        0.03508   \n2                              2.60                  3.896        0.03896   \n3                              1.99                  3.389        0.03389   \n4                              1.79                  3.188        0.03188   \n\n   payments  total past payments  ...  BUILDING CLASS AT PRESENT  \\\n0   4524.65                   92  ...                         R1   \n1  12302.74                   62  ...                         R3   \n2  27322.92                   66  ...                         R3   \n3   6196.40                   94  ...                         R1   \n4  11439.05                   45  ...                         RW   \n\n                ADDRESS 1 ADDRESS 2 ZIP CODE           CITY STATE TOTAL UNITS  \\\n0  171 SOUTH 9TH   STREET         9    10001  New York City    NY           1   \n1          1242 E 80TH ST        19    10104  New York City    NY           1   \n2        1884 53RD STREET         2    10029  New York City    NY           1   \n3         79 EAGLE STREET         6    10010  New York City    NY           1   \n4   34 NORTH 7TH   STREET         5    10172  New York City    NY           1   \n\n  LAND SQUARE FEET GROSS SQUARE FEET  TAX CLASS AT TIME OF SALE  \n0                0                 0                          2  \n1                0                 0                          1  \n2                0                 0                          1  \n3                0                 0                          2  \n4                0                 0                          4  \n\n[5 rows x 32 columns]",
      "text/html": "<div>\n<style scoped>\n    .dataframe tbody tr th:only-of-type {\n        vertical-align: middle;\n    }\n\n    .dataframe tbody tr th {\n        vertical-align: top;\n    }\n\n    .dataframe thead th {\n        text-align: right;\n    }\n</style>\n<table border=\"1\" class=\"dataframe\">\n  <thead>\n    <tr style=\"text-align: right;\">\n      <th></th>\n      <th>loan_id</th>\n      <th>funded_amount</th>\n      <th>funded_date</th>\n      <th>duration years</th>\n      <th>duration months</th>\n      <th>10 yr treasury index date funded</th>\n      <th>interest rate percent</th>\n      <th>interest rate</th>\n      <th>payments</th>\n      <th>total past payments</th>\n      <th>...</th>\n      <th>BUILDING CLASS AT PRESENT</th>\n      <th>ADDRESS 1</th>\n      <th>ADDRESS 2</th>\n      <th>ZIP CODE</th>\n      <th>CITY</th>\n      <th>STATE</th>\n      <th>TOTAL UNITS</th>\n      <th>LAND SQUARE FEET</th>\n      <th>GROSS SQUARE FEET</th>\n      <th>TAX CLASS AT TIME OF SALE</th>\n    </tr>\n  </thead>\n  <tbody>\n    <tr>\n      <th>0</th>\n      <td>LL0000076</td>\n      <td>790000.0</td>\n      <td>2012-04-27</td>\n      <td>20</td>\n      <td>240</td>\n      <td>1.96</td>\n      <td>3.359</td>\n      <td>0.03359</td>\n      <td>4524.65</td>\n      <td>92</td>\n      <td>...</td>\n      <td>R1</td>\n      <td>171 SOUTH 9TH   STREET</td>\n      <td>9</td>\n      <td>10001</td>\n      <td>New York City</td>\n      <td>NY</td>\n      <td>1</td>\n      <td>0</td>\n      <td>0</td>\n      <td>2</td>\n    </tr>\n    <tr>\n      <th>1</th>\n      <td>LL0000151</td>\n      <td>1720000.0</td>\n      <td>2014-10-14</td>\n      <td>15</td>\n      <td>180</td>\n      <td>2.21</td>\n      <td>3.508</td>\n      <td>0.03508</td>\n      <td>12302.74</td>\n      <td>62</td>\n      <td>...</td>\n      <td>R3</td>\n      <td>1242 E 80TH ST</td>\n      <td>19</td>\n      <td>10104</td>\n      <td>New York City</td>\n      <td>NY</td>\n      <td>1</td>\n      <td>0</td>\n      <td>0</td>\n      <td>1</td>\n    </tr>\n    <tr>\n      <th>2</th>\n      <td>LL0000161</td>\n      <td>3720000.0</td>\n      <td>2014-06-07</td>\n      <td>15</td>\n      <td>180</td>\n      <td>2.60</td>\n      <td>3.896</td>\n      <td>0.03896</td>\n      <td>27322.92</td>\n      <td>66</td>\n      <td>...</td>\n      <td>R3</td>\n      <td>1884 53RD STREET</td>\n      <td>2</td>\n      <td>10029</td>\n      <td>New York City</td>\n      <td>NY</td>\n      <td>1</td>\n      <td>0</td>\n      <td>0</td>\n      <td>1</td>\n    </tr>\n    <tr>\n      <th>3</th>\n      <td>LL0000175</td>\n      <td>1079000.0</td>\n      <td>2012-02-23</td>\n      <td>20</td>\n      <td>240</td>\n      <td>1.99</td>\n      <td>3.389</td>\n      <td>0.03389</td>\n      <td>6196.40</td>\n      <td>94</td>\n      <td>...</td>\n      <td>R1</td>\n      <td>79 EAGLE STREET</td>\n      <td>6</td>\n      <td>10010</td>\n      <td>New York City</td>\n      <td>NY</td>\n      <td>1</td>\n      <td>0</td>\n      <td>0</td>\n      <td>2</td>\n    </tr>\n    <tr>\n      <th>4</th>\n      <td>LL0000178</td>\n      <td>2028000.0</td>\n      <td>2016-04-01</td>\n      <td>20</td>\n      <td>240</td>\n      <td>1.79</td>\n      <td>3.188</td>\n      <td>0.03188</td>\n      <td>11439.05</td>\n      <td>45</td>\n      <td>...</td>\n      <td>RW</td>\n      <td>34 NORTH 7TH   STREET</td>\n      <td>5</td>\n      <td>10172</td>\n      <td>New York City</td>\n      <td>NY</td>\n      <td>1</td>\n      <td>0</td>\n      <td>0</td>\n      <td>4</td>\n    </tr>\n  </tbody>\n</table>\n<p>5 rows × 32 columns</p>\n</div>"
     },
     "execution_count": 3,
     "metadata": {},
     "output_type": "execute_result"
    }
   ],
   "source": [
    "data.head()"
   ],
   "metadata": {
    "collapsed": false,
    "ExecuteTime": {
     "end_time": "2024-02-09T02:20:32.932571Z",
     "start_time": "2024-02-09T02:20:32.922100Z"
    }
   },
   "id": "73da1d69ae6aa587",
   "execution_count": 3
  },
  {
   "cell_type": "code",
   "outputs": [],
   "source": [
    "data[\"test\"] = data[\"payments\"] * (data[\"interest rate\"]) * data[\"duration months\"]"
   ],
   "metadata": {
    "collapsed": false,
    "ExecuteTime": {
     "end_time": "2024-02-09T02:31:05.718757Z",
     "start_time": "2024-02-09T02:31:05.716402Z"
    }
   },
   "id": "5adc055de18acea0",
   "execution_count": 17
  },
  {
   "cell_type": "code",
   "outputs": [
    {
     "data": {
      "text/plain": "               test  funded_amount\n0      36475.918440       790000.0\n1      77684.421456      1720000.0\n2     191610.173376      3720000.0\n3      50399.039040      1079000.0\n4      87522.459360      2028000.0\n...             ...            ...\n1673   21163.982040       528000.0\n1674   44723.592528       885000.0\n1675   81582.865920      1530000.0\n1676   48517.911810       897000.0\n1677   57519.178416      1656000.0\n\n[1678 rows x 2 columns]",
      "text/html": "<div>\n<style scoped>\n    .dataframe tbody tr th:only-of-type {\n        vertical-align: middle;\n    }\n\n    .dataframe tbody tr th {\n        vertical-align: top;\n    }\n\n    .dataframe thead th {\n        text-align: right;\n    }\n</style>\n<table border=\"1\" class=\"dataframe\">\n  <thead>\n    <tr style=\"text-align: right;\">\n      <th></th>\n      <th>test</th>\n      <th>funded_amount</th>\n    </tr>\n  </thead>\n  <tbody>\n    <tr>\n      <th>0</th>\n      <td>36475.918440</td>\n      <td>790000.0</td>\n    </tr>\n    <tr>\n      <th>1</th>\n      <td>77684.421456</td>\n      <td>1720000.0</td>\n    </tr>\n    <tr>\n      <th>2</th>\n      <td>191610.173376</td>\n      <td>3720000.0</td>\n    </tr>\n    <tr>\n      <th>3</th>\n      <td>50399.039040</td>\n      <td>1079000.0</td>\n    </tr>\n    <tr>\n      <th>4</th>\n      <td>87522.459360</td>\n      <td>2028000.0</td>\n    </tr>\n    <tr>\n      <th>...</th>\n      <td>...</td>\n      <td>...</td>\n    </tr>\n    <tr>\n      <th>1673</th>\n      <td>21163.982040</td>\n      <td>528000.0</td>\n    </tr>\n    <tr>\n      <th>1674</th>\n      <td>44723.592528</td>\n      <td>885000.0</td>\n    </tr>\n    <tr>\n      <th>1675</th>\n      <td>81582.865920</td>\n      <td>1530000.0</td>\n    </tr>\n    <tr>\n      <th>1676</th>\n      <td>48517.911810</td>\n      <td>897000.0</td>\n    </tr>\n    <tr>\n      <th>1677</th>\n      <td>57519.178416</td>\n      <td>1656000.0</td>\n    </tr>\n  </tbody>\n</table>\n<p>1678 rows × 2 columns</p>\n</div>"
     },
     "execution_count": 18,
     "metadata": {},
     "output_type": "execute_result"
    }
   ],
   "source": [
    "data[[\"test\",\"funded_amount\"]]"
   ],
   "metadata": {
    "collapsed": false,
    "ExecuteTime": {
     "end_time": "2024-02-09T02:31:06.020586Z",
     "start_time": "2024-02-09T02:31:06.007025Z"
    }
   },
   "id": "2ea7abb4dce7b7cb",
   "execution_count": 18
  },
  {
   "cell_type": "code",
   "outputs": [
    {
     "data": {
      "text/plain": "0       7.535241e+05\n1       1.642316e+06\n2       3.528390e+06\n3       1.028601e+06\n4       1.940478e+06\n            ...     \n1673    5.068360e+05\n1674    8.402764e+05\n1675    1.448417e+06\n1676    8.484821e+05\n1677    1.598481e+06\nName: test_rate, Length: 1678, dtype: float64"
     },
     "execution_count": 19,
     "metadata": {},
     "output_type": "execute_result"
    }
   ],
   "source": [
    "data[\"test_rate\"] =   data[\"funded_amount\"] - data[\"test\"]\n",
    "data[\"test_rate\"]"
   ],
   "metadata": {
    "collapsed": false,
    "ExecuteTime": {
     "end_time": "2024-02-09T02:31:07.849894Z",
     "start_time": "2024-02-09T02:31:07.841929Z"
    }
   },
   "id": "36e49fb87f8ef051",
   "execution_count": 19
  },
  {
   "cell_type": "code",
   "outputs": [],
   "source": [],
   "metadata": {
    "collapsed": false
   },
   "id": "b2443ba27d600507"
  }
 ],
 "metadata": {
  "kernelspec": {
   "display_name": "Python 3",
   "language": "python",
   "name": "python3"
  },
  "language_info": {
   "codemirror_mode": {
    "name": "ipython",
    "version": 2
   },
   "file_extension": ".py",
   "mimetype": "text/x-python",
   "name": "python",
   "nbconvert_exporter": "python",
   "pygments_lexer": "ipython2",
   "version": "2.7.6"
  }
 },
 "nbformat": 4,
 "nbformat_minor": 5
}
