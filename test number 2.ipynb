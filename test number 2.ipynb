{
 "cells": [
  {
   "cell_type": "markdown",
   "source": [],
   "metadata": {
    "collapsed": false
   },
   "id": "83821205267675d5"
  },
  {
   "cell_type": "markdown",
   "source": [
    "## Task 2\n",
    "Import the Luxury Loan Portfolio into pandas dataframes and use Plotly dash to create a web app that displays 3 charts of different types that show interesting business metrics."
   ],
   "metadata": {
    "collapsed": false
   },
   "id": "4b888b66da1b2206"
  },
  {
   "cell_type": "code",
   "outputs": [],
   "source": [],
   "metadata": {
    "collapsed": false,
    "ExecuteTime": {
     "end_time": "2024-02-12T03:58:33.525582Z",
     "start_time": "2024-02-12T03:58:33.492853Z"
    }
   },
   "id": "b77ad2971254439",
   "execution_count": 47
  },
  {
   "cell_type": "code",
   "execution_count": 48,
   "id": "initial_id",
   "metadata": {
    "collapsed": true,
    "ExecuteTime": {
     "end_time": "2024-02-12T03:58:33.538469Z",
     "start_time": "2024-02-12T03:58:33.528105Z"
    }
   },
   "outputs": [],
   "source": [
    "import numpy as np\n",
    "import pandas as pd\n",
    "\n",
    "import matplotlib.pyplot as plt\n",
    "import seaborn as sns"
   ]
  },
  {
   "cell_type": "code",
   "outputs": [
    {
     "name": "stdout",
     "output_type": "stream",
     "text": [
      "<class 'pandas.core.frame.DataFrame'>\n",
      "RangeIndex: 1678 entries, 0 to 1677\n",
      "Data columns (total 32 columns):\n",
      " #   Column                            Non-Null Count  Dtype  \n",
      "---  ------                            --------------  -----  \n",
      " 0   loan_id                           1678 non-null   object \n",
      " 1   funded_amount                     1678 non-null   float64\n",
      " 2   funded_date                       1678 non-null   object \n",
      " 3   duration years                    1678 non-null   int64  \n",
      " 4   duration months                   1678 non-null   int64  \n",
      " 5   10 yr treasury index date funded  1678 non-null   float64\n",
      " 6   interest rate percent             1678 non-null   float64\n",
      " 7   interest rate                     1678 non-null   float64\n",
      " 8   payments                          1678 non-null   float64\n",
      " 9   total past payments               1678 non-null   int64  \n",
      " 10  loan balance                      1678 non-null   float64\n",
      " 11  property value                    1678 non-null   float64\n",
      " 12  purpose                           1678 non-null   object \n",
      " 13  firstname                         1678 non-null   object \n",
      " 14  middlename                        1678 non-null   object \n",
      " 15  lastname                          1678 non-null   object \n",
      " 16  social                            1678 non-null   object \n",
      " 17  phone                             1678 non-null   object \n",
      " 18  title                             1666 non-null   object \n",
      " 19  employment length                 1678 non-null   int64  \n",
      " 20  BUILDING CLASS CATEGORY           1678 non-null   object \n",
      " 21  TAX CLASS AT PRESENT              1678 non-null   object \n",
      " 22  BUILDING CLASS AT PRESENT         1678 non-null   object \n",
      " 23  ADDRESS 1                         1678 non-null   object \n",
      " 24  ADDRESS 2                         1678 non-null   object \n",
      " 25  ZIP CODE                          1678 non-null   int64  \n",
      " 26  CITY                              1678 non-null   object \n",
      " 27  STATE                             1678 non-null   object \n",
      " 28  TOTAL UNITS                       1678 non-null   int64  \n",
      " 29  LAND SQUARE FEET                  1678 non-null   object \n",
      " 30  GROSS SQUARE FEET                 1678 non-null   object \n",
      " 31  TAX CLASS AT TIME OF SALE         1678 non-null   int64  \n",
      "dtypes: float64(7), int64(7), object(18)\n",
      "memory usage: 419.6+ KB\n"
     ]
    }
   ],
   "source": [
    "data = pd.read_csv(\"data/LuxuryLoanPortfolio.csv\")\n",
    "\n",
    "data.info()"
   ],
   "metadata": {
    "collapsed": false,
    "ExecuteTime": {
     "end_time": "2024-02-12T03:58:33.586944Z",
     "start_time": "2024-02-12T03:58:33.540011Z"
    }
   },
   "id": "6d0fadbfab01409a",
   "execution_count": 49
  },
  {
   "cell_type": "code",
   "outputs": [
    {
     "data": {
      "text/plain": "Index(['loan_id', 'funded_amount', 'funded_date', 'duration years',\n       'duration months', '10 yr treasury index date funded',\n       'interest rate percent', 'interest rate', 'payments',\n       'total past payments', 'loan balance', 'property value', 'purpose',\n       'firstname', 'middlename', 'lastname', 'social', 'phone', 'title',\n       'employment length', 'BUILDING CLASS CATEGORY', 'TAX CLASS AT PRESENT',\n       'BUILDING CLASS AT PRESENT', 'ADDRESS 1', 'ADDRESS 2', 'ZIP CODE',\n       'CITY', 'STATE', 'TOTAL UNITS', 'LAND SQUARE FEET', 'GROSS SQUARE FEET',\n       'TAX CLASS AT TIME OF SALE'],\n      dtype='object')"
     },
     "execution_count": 50,
     "metadata": {},
     "output_type": "execute_result"
    }
   ],
   "source": [
    "data.columns"
   ],
   "metadata": {
    "collapsed": false,
    "ExecuteTime": {
     "end_time": "2024-02-12T03:58:33.587568Z",
     "start_time": "2024-02-12T03:58:33.559892Z"
    }
   },
   "id": "b2443ba27d600507",
   "execution_count": 50
  },
  {
   "cell_type": "code",
   "outputs": [],
   "source": [
    "data[\"funded_date\"] = pd.to_datetime(data[\"funded_date\"] )"
   ],
   "metadata": {
    "collapsed": false,
    "ExecuteTime": {
     "end_time": "2024-02-12T03:58:33.591989Z",
     "start_time": "2024-02-12T03:58:33.581950Z"
    }
   },
   "id": "d2be14f586739e97",
   "execution_count": 51
  },
  {
   "cell_type": "code",
   "outputs": [],
   "source": [
    "# Rename columns to lowercase with underscores\n",
    "data = data.rename(columns=lambda x: x.lower().replace(' ', '_'))"
   ],
   "metadata": {
    "collapsed": false,
    "ExecuteTime": {
     "end_time": "2024-02-12T03:58:33.599733Z",
     "start_time": "2024-02-12T03:58:33.593775Z"
    }
   },
   "id": "6ac8fc7298179dd6",
   "execution_count": 52
  },
  {
   "cell_type": "markdown",
   "source": [
    "Interest income per loan"
   ],
   "metadata": {
    "collapsed": false
   },
   "id": "bc55f93d692d0cb7"
  },
  {
   "cell_type": "markdown",
   "source": [
    "df['interest_income'] = df['loan balance'] * df['interest rate']"
   ],
   "metadata": {
    "collapsed": false
   },
   "id": "e7199cb790730364"
  },
  {
   "cell_type": "code",
   "outputs": [
    {
     "data": {
      "text/plain": "0       12553.663926\n1       33579.636819\n2       74674.139156\n3       16827.698238\n4       48242.173132\n            ...     \n1673     8391.930991\n1674    22161.039365\n1675    35588.972086\n1676    17451.458449\n1677    33730.087098\nName: interest_income, Length: 1678, dtype: float64"
     },
     "execution_count": 53,
     "metadata": {},
     "output_type": "execute_result"
    }
   ],
   "source": [
    "data['interest_income'] = data['loan_balance'] * data['interest_rate']\n",
    "data['interest_income']"
   ],
   "metadata": {
    "collapsed": false,
    "ExecuteTime": {
     "end_time": "2024-02-12T03:58:33.626686Z",
     "start_time": "2024-02-12T03:58:33.602124Z"
    }
   },
   "id": "4f559a385a36ae48",
   "execution_count": 53
  },
  {
   "cell_type": "code",
   "outputs": [],
   "source": [],
   "metadata": {
    "collapsed": false,
    "ExecuteTime": {
     "end_time": "2024-02-12T03:58:33.627983Z",
     "start_time": "2024-02-12T03:58:33.605853Z"
    }
   },
   "id": "6f26879cdeb924af",
   "execution_count": 53
  },
  {
   "cell_type": "code",
   "outputs": [
    {
     "name": "stdout",
     "output_type": "stream",
     "text": [
      "0 1678 0.0\n"
     ]
    }
   ],
   "source": [
    "# Count the number of loans considered as repaid\n",
    "repaid_loans = data[data['total_past_payments'] >= data['funded_amount']].shape[0]\n",
    "\n",
    "# Calculate the total number of loans\n",
    "total_loans = data.shape[0]\n",
    "\n",
    "# Calculate the Repayment Rate\n",
    "repayment_rate = (repaid_loans / total_loans) * 100\n",
    "print(repaid_loans, total_loans, repayment_rate)"
   ],
   "metadata": {
    "collapsed": false,
    "ExecuteTime": {
     "end_time": "2024-02-12T03:58:33.628718Z",
     "start_time": "2024-02-12T03:58:33.609620Z"
    }
   },
   "id": "148028015ba4f174",
   "execution_count": 54
  },
  {
   "cell_type": "markdown",
   "source": [
    "Loan to value ratio"
   ],
   "metadata": {
    "collapsed": false
   },
   "id": "ac3ac29d03ede4fd"
  },
  {
   "cell_type": "markdown",
   "source": [
    "calculate the Loan-to-Value (LTV) ratio\n",
    "df['LTV_ratio'] = df['loan_balance'] / df['property_value']"
   ],
   "metadata": {
    "collapsed": false
   },
   "id": "f9db385b6139963e"
  },
  {
   "cell_type": "code",
   "outputs": [
    {
     "data": {
      "text/plain": "0       0.401755\n1       0.479755\n2       0.493775\n3       0.354051\n4       0.682717\n          ...   \n1673    0.358292\n1674    0.567543\n1675    0.583474\n1676    0.363918\n1677    0.670293\nName: LTV_ratio, Length: 1678, dtype: float64"
     },
     "execution_count": 55,
     "metadata": {},
     "output_type": "execute_result"
    }
   ],
   "source": [
    "# Calculate the Loan-to-Value (LTV) ratio\n",
    "data['LTV_ratio'] = data['loan_balance'] / data['property_value']\n",
    "data['LTV_ratio']"
   ],
   "metadata": {
    "collapsed": false,
    "ExecuteTime": {
     "end_time": "2024-02-12T03:58:33.650828Z",
     "start_time": "2024-02-12T03:58:33.632162Z"
    }
   },
   "id": "e2508892f6b59645",
   "execution_count": 55
  },
  {
   "cell_type": "markdown",
   "source": [
    "portofolio yield"
   ],
   "metadata": {
    "collapsed": false
   },
   "id": "ff8bdc0dd56d7f87"
  },
  {
   "cell_type": "code",
   "outputs": [
    {
     "name": "stdout",
     "output_type": "stream",
     "text": [
      "Portfolio Yield: 2.5501420380829033e-05\n"
     ]
    }
   ],
   "source": [
    "# Calculate the total interest income earned from the portfolio\n",
    "total_interest_income = data['total_past_payments'].sum()\n",
    "\n",
    "# Calculate the total loan amount in the portfolio\n",
    "total_loan_amount = data['funded_amount'].sum()\n",
    "\n",
    "# Calculate the portfolio yield\n",
    "portfolio_yield = total_interest_income / total_loan_amount\n",
    "\n",
    "print(\"Portfolio Yield:\", portfolio_yield)"
   ],
   "metadata": {
    "collapsed": false,
    "ExecuteTime": {
     "end_time": "2024-02-12T03:58:33.665922Z",
     "start_time": "2024-02-12T03:58:33.652572Z"
    }
   },
   "id": "5fd47b85dd9c203b",
   "execution_count": 56
  },
  {
   "cell_type": "markdown",
   "source": [
    "interest coverage ratio"
   ],
   "metadata": {
    "collapsed": false
   },
   "id": "62f86a5bf676bef0"
  },
  {
   "cell_type": "markdown",
   "source": [
    " Calculate the total interest expenses\n",
    "total_interest_expenses = (df['interest_rate'] * df['loan_balance']).sum()\n",
    "\n",
    " Calculate the total earnings before interest and taxes (EBIT)\n",
    "total_ebit = df['total_past_payments'].sum()"
   ],
   "metadata": {
    "collapsed": false
   },
   "id": "78f63b1d9c9bf23d"
  },
  {
   "cell_type": "code",
   "outputs": [],
   "source": [
    "data[\"interest_expenses\"] = data['interest_rate'] * data['loan_balance']"
   ],
   "metadata": {
    "collapsed": false,
    "ExecuteTime": {
     "end_time": "2024-02-12T03:58:33.666384Z",
     "start_time": "2024-02-12T03:58:33.656060Z"
    }
   },
   "id": "21b71ea3c6741d08",
   "execution_count": 57
  },
  {
   "cell_type": "code",
   "outputs": [],
   "source": [
    "used_data = data[[\"loan_id\",\"funded_date\",\"interest_income\", \"LTV_ratio\",\"funded_amount\"]]\n",
    "used_data.to_csv(\"used_data.csv\", index=False)"
   ],
   "metadata": {
    "collapsed": false,
    "ExecuteTime": {
     "end_time": "2024-02-12T03:58:33.698473Z",
     "start_time": "2024-02-12T03:58:33.669567Z"
    }
   },
   "id": "b42f61b45b29d0d",
   "execution_count": 58
  },
  {
   "cell_type": "markdown",
   "source": [
    "## Creating PLOT"
   ],
   "metadata": {
    "collapsed": false
   },
   "id": "d45385b62763cf0a"
  },
  {
   "cell_type": "code",
   "outputs": [
    {
     "data": {
      "text/plain": "        loan_id  funded_amount funded_date  duration_years  duration_months  \\\n0     LL0000076       790000.0  2012-04-27              20              240   \n1     LL0000151      1720000.0  2014-10-14              15              180   \n2     LL0000161      3720000.0  2014-06-07              15              180   \n3     LL0000175      1079000.0  2012-02-23              20              240   \n4     LL0000178      2028000.0  2016-04-01              20              240   \n...         ...            ...         ...             ...              ...   \n1673  LL0001228       528000.0  2012-11-10              20              240   \n1674  LL0001358       885000.0  2015-08-16              20              240   \n1675  LL0001479      1530000.0  2014-09-01              20              240   \n1676  LL0001561       897000.0  2014-02-14              15              180   \n1677  LL0001674      1656000.0  2016-07-12              15              180   \n\n      10_yr_treasury_index_date_funded  interest_rate_percent  interest_rate  \\\n0                                 1.96                  3.359        0.03359   \n1                                 2.21                  3.508        0.03508   \n2                                 2.60                  3.896        0.03896   \n3                                 1.99                  3.389        0.03389   \n4                                 1.79                  3.188        0.03188   \n...                                ...                    ...            ...   \n1673                              1.61                  3.010        0.03009   \n1674                              2.20                  3.599        0.03599   \n1675                              2.35                  3.749        0.03748   \n1676                              2.75                  4.049        0.04049   \n1677                              1.53                  2.828        0.02828   \n\n      payments  total_past_payments  ...  zip_code           city state  \\\n0      4524.65                   92  ...     10001  New York City    NY   \n1     12302.74                   62  ...     10104  New York City    NY   \n2     27322.92                   66  ...     10029  New York City    NY   \n3      6196.40                   94  ...     10010  New York City    NY   \n4     11439.05                   45  ...     10172  New York City    NY   \n...        ...                  ...  ...       ...            ...   ...   \n1673   2930.65                   85  ...     10158  New York City    NY   \n1674   5177.78                   52  ...     10108  New York City    NY   \n1675   9069.60                   64  ...     10166  New York City    NY   \n1676   6657.05                   70  ...     10081  New York City    NY   \n1677  11299.54                   41  ...     10022  New York City    NY   \n\n     total_units land_square_feet gross_square_feet tax_class_at_time_of_sale  \\\n0              1                0                 0                         2   \n1              1                0                 0                         1   \n2              1                0                 0                         1   \n3              1                0                 0                         2   \n4              1                0                 0                         4   \n...          ...              ...               ...                       ...   \n1673           1                0                 0                         1   \n1674           1                0                 0                         1   \n1675           1                0                 0                         1   \n1676          11                0             16376                         2   \n1677           1                0                 0                         2   \n\n     interest_income LTV_ratio  interest_expenses  \n0       12553.663926  0.401755       12553.663926  \n1       33579.636819  0.479755       33579.636819  \n2       74674.139156  0.493775       74674.139156  \n3       16827.698238  0.354051       16827.698238  \n4       48242.173132  0.682717       48242.173132  \n...              ...       ...                ...  \n1673     8391.930991  0.358292        8391.930991  \n1674    22161.039365  0.567543       22161.039365  \n1675    35588.972086  0.583474       35588.972086  \n1676    17451.458449  0.363918       17451.458449  \n1677    33730.087098  0.670293       33730.087098  \n\n[1678 rows x 35 columns]",
      "text/html": "<div>\n<style scoped>\n    .dataframe tbody tr th:only-of-type {\n        vertical-align: middle;\n    }\n\n    .dataframe tbody tr th {\n        vertical-align: top;\n    }\n\n    .dataframe thead th {\n        text-align: right;\n    }\n</style>\n<table border=\"1\" class=\"dataframe\">\n  <thead>\n    <tr style=\"text-align: right;\">\n      <th></th>\n      <th>loan_id</th>\n      <th>funded_amount</th>\n      <th>funded_date</th>\n      <th>duration_years</th>\n      <th>duration_months</th>\n      <th>10_yr_treasury_index_date_funded</th>\n      <th>interest_rate_percent</th>\n      <th>interest_rate</th>\n      <th>payments</th>\n      <th>total_past_payments</th>\n      <th>...</th>\n      <th>zip_code</th>\n      <th>city</th>\n      <th>state</th>\n      <th>total_units</th>\n      <th>land_square_feet</th>\n      <th>gross_square_feet</th>\n      <th>tax_class_at_time_of_sale</th>\n      <th>interest_income</th>\n      <th>LTV_ratio</th>\n      <th>interest_expenses</th>\n    </tr>\n  </thead>\n  <tbody>\n    <tr>\n      <th>0</th>\n      <td>LL0000076</td>\n      <td>790000.0</td>\n      <td>2012-04-27</td>\n      <td>20</td>\n      <td>240</td>\n      <td>1.96</td>\n      <td>3.359</td>\n      <td>0.03359</td>\n      <td>4524.65</td>\n      <td>92</td>\n      <td>...</td>\n      <td>10001</td>\n      <td>New York City</td>\n      <td>NY</td>\n      <td>1</td>\n      <td>0</td>\n      <td>0</td>\n      <td>2</td>\n      <td>12553.663926</td>\n      <td>0.401755</td>\n      <td>12553.663926</td>\n    </tr>\n    <tr>\n      <th>1</th>\n      <td>LL0000151</td>\n      <td>1720000.0</td>\n      <td>2014-10-14</td>\n      <td>15</td>\n      <td>180</td>\n      <td>2.21</td>\n      <td>3.508</td>\n      <td>0.03508</td>\n      <td>12302.74</td>\n      <td>62</td>\n      <td>...</td>\n      <td>10104</td>\n      <td>New York City</td>\n      <td>NY</td>\n      <td>1</td>\n      <td>0</td>\n      <td>0</td>\n      <td>1</td>\n      <td>33579.636819</td>\n      <td>0.479755</td>\n      <td>33579.636819</td>\n    </tr>\n    <tr>\n      <th>2</th>\n      <td>LL0000161</td>\n      <td>3720000.0</td>\n      <td>2014-06-07</td>\n      <td>15</td>\n      <td>180</td>\n      <td>2.60</td>\n      <td>3.896</td>\n      <td>0.03896</td>\n      <td>27322.92</td>\n      <td>66</td>\n      <td>...</td>\n      <td>10029</td>\n      <td>New York City</td>\n      <td>NY</td>\n      <td>1</td>\n      <td>0</td>\n      <td>0</td>\n      <td>1</td>\n      <td>74674.139156</td>\n      <td>0.493775</td>\n      <td>74674.139156</td>\n    </tr>\n    <tr>\n      <th>3</th>\n      <td>LL0000175</td>\n      <td>1079000.0</td>\n      <td>2012-02-23</td>\n      <td>20</td>\n      <td>240</td>\n      <td>1.99</td>\n      <td>3.389</td>\n      <td>0.03389</td>\n      <td>6196.40</td>\n      <td>94</td>\n      <td>...</td>\n      <td>10010</td>\n      <td>New York City</td>\n      <td>NY</td>\n      <td>1</td>\n      <td>0</td>\n      <td>0</td>\n      <td>2</td>\n      <td>16827.698238</td>\n      <td>0.354051</td>\n      <td>16827.698238</td>\n    </tr>\n    <tr>\n      <th>4</th>\n      <td>LL0000178</td>\n      <td>2028000.0</td>\n      <td>2016-04-01</td>\n      <td>20</td>\n      <td>240</td>\n      <td>1.79</td>\n      <td>3.188</td>\n      <td>0.03188</td>\n      <td>11439.05</td>\n      <td>45</td>\n      <td>...</td>\n      <td>10172</td>\n      <td>New York City</td>\n      <td>NY</td>\n      <td>1</td>\n      <td>0</td>\n      <td>0</td>\n      <td>4</td>\n      <td>48242.173132</td>\n      <td>0.682717</td>\n      <td>48242.173132</td>\n    </tr>\n    <tr>\n      <th>...</th>\n      <td>...</td>\n      <td>...</td>\n      <td>...</td>\n      <td>...</td>\n      <td>...</td>\n      <td>...</td>\n      <td>...</td>\n      <td>...</td>\n      <td>...</td>\n      <td>...</td>\n      <td>...</td>\n      <td>...</td>\n      <td>...</td>\n      <td>...</td>\n      <td>...</td>\n      <td>...</td>\n      <td>...</td>\n      <td>...</td>\n      <td>...</td>\n      <td>...</td>\n      <td>...</td>\n    </tr>\n    <tr>\n      <th>1673</th>\n      <td>LL0001228</td>\n      <td>528000.0</td>\n      <td>2012-11-10</td>\n      <td>20</td>\n      <td>240</td>\n      <td>1.61</td>\n      <td>3.010</td>\n      <td>0.03009</td>\n      <td>2930.65</td>\n      <td>85</td>\n      <td>...</td>\n      <td>10158</td>\n      <td>New York City</td>\n      <td>NY</td>\n      <td>1</td>\n      <td>0</td>\n      <td>0</td>\n      <td>1</td>\n      <td>8391.930991</td>\n      <td>0.358292</td>\n      <td>8391.930991</td>\n    </tr>\n    <tr>\n      <th>1674</th>\n      <td>LL0001358</td>\n      <td>885000.0</td>\n      <td>2015-08-16</td>\n      <td>20</td>\n      <td>240</td>\n      <td>2.20</td>\n      <td>3.599</td>\n      <td>0.03599</td>\n      <td>5177.78</td>\n      <td>52</td>\n      <td>...</td>\n      <td>10108</td>\n      <td>New York City</td>\n      <td>NY</td>\n      <td>1</td>\n      <td>0</td>\n      <td>0</td>\n      <td>1</td>\n      <td>22161.039365</td>\n      <td>0.567543</td>\n      <td>22161.039365</td>\n    </tr>\n    <tr>\n      <th>1675</th>\n      <td>LL0001479</td>\n      <td>1530000.0</td>\n      <td>2014-09-01</td>\n      <td>20</td>\n      <td>240</td>\n      <td>2.35</td>\n      <td>3.749</td>\n      <td>0.03748</td>\n      <td>9069.60</td>\n      <td>64</td>\n      <td>...</td>\n      <td>10166</td>\n      <td>New York City</td>\n      <td>NY</td>\n      <td>1</td>\n      <td>0</td>\n      <td>0</td>\n      <td>1</td>\n      <td>35588.972086</td>\n      <td>0.583474</td>\n      <td>35588.972086</td>\n    </tr>\n    <tr>\n      <th>1676</th>\n      <td>LL0001561</td>\n      <td>897000.0</td>\n      <td>2014-02-14</td>\n      <td>15</td>\n      <td>180</td>\n      <td>2.75</td>\n      <td>4.049</td>\n      <td>0.04049</td>\n      <td>6657.05</td>\n      <td>70</td>\n      <td>...</td>\n      <td>10081</td>\n      <td>New York City</td>\n      <td>NY</td>\n      <td>11</td>\n      <td>0</td>\n      <td>16376</td>\n      <td>2</td>\n      <td>17451.458449</td>\n      <td>0.363918</td>\n      <td>17451.458449</td>\n    </tr>\n    <tr>\n      <th>1677</th>\n      <td>LL0001674</td>\n      <td>1656000.0</td>\n      <td>2016-07-12</td>\n      <td>15</td>\n      <td>180</td>\n      <td>1.53</td>\n      <td>2.828</td>\n      <td>0.02828</td>\n      <td>11299.54</td>\n      <td>41</td>\n      <td>...</td>\n      <td>10022</td>\n      <td>New York City</td>\n      <td>NY</td>\n      <td>1</td>\n      <td>0</td>\n      <td>0</td>\n      <td>2</td>\n      <td>33730.087098</td>\n      <td>0.670293</td>\n      <td>33730.087098</td>\n    </tr>\n  </tbody>\n</table>\n<p>1678 rows × 35 columns</p>\n</div>"
     },
     "execution_count": 59,
     "metadata": {},
     "output_type": "execute_result"
    }
   ],
   "source": [
    "data"
   ],
   "metadata": {
    "collapsed": false,
    "ExecuteTime": {
     "end_time": "2024-02-12T03:58:33.701372Z",
     "start_time": "2024-02-12T03:58:33.677814Z"
    }
   },
   "id": "88a0e8092a54a9a",
   "execution_count": 59
  },
  {
   "cell_type": "code",
   "outputs": [
    {
     "data": {
      "text/plain": "             interest_expenses  LTV_ratio  interest_expenses\nfunded_date                                                 \n2012              26372.794360   0.498678       26372.794360\n2013              35667.608159   0.547814       35667.608159\n2014              40193.793477   0.591510       40193.793477\n2015              41509.029738   0.660279       41509.029738\n2016              40447.875052   0.731680       40447.875052\n2017              46935.533518   0.779998       46935.533518\n2018              58331.060738   0.841767       58331.060738\n2019              50962.602894   0.916003       50962.602894",
      "text/html": "<div>\n<style scoped>\n    .dataframe tbody tr th:only-of-type {\n        vertical-align: middle;\n    }\n\n    .dataframe tbody tr th {\n        vertical-align: top;\n    }\n\n    .dataframe thead th {\n        text-align: right;\n    }\n</style>\n<table border=\"1\" class=\"dataframe\">\n  <thead>\n    <tr style=\"text-align: right;\">\n      <th></th>\n      <th>interest_expenses</th>\n      <th>LTV_ratio</th>\n      <th>interest_expenses</th>\n    </tr>\n    <tr>\n      <th>funded_date</th>\n      <th></th>\n      <th></th>\n      <th></th>\n    </tr>\n  </thead>\n  <tbody>\n    <tr>\n      <th>2012</th>\n      <td>26372.794360</td>\n      <td>0.498678</td>\n      <td>26372.794360</td>\n    </tr>\n    <tr>\n      <th>2013</th>\n      <td>35667.608159</td>\n      <td>0.547814</td>\n      <td>35667.608159</td>\n    </tr>\n    <tr>\n      <th>2014</th>\n      <td>40193.793477</td>\n      <td>0.591510</td>\n      <td>40193.793477</td>\n    </tr>\n    <tr>\n      <th>2015</th>\n      <td>41509.029738</td>\n      <td>0.660279</td>\n      <td>41509.029738</td>\n    </tr>\n    <tr>\n      <th>2016</th>\n      <td>40447.875052</td>\n      <td>0.731680</td>\n      <td>40447.875052</td>\n    </tr>\n    <tr>\n      <th>2017</th>\n      <td>46935.533518</td>\n      <td>0.779998</td>\n      <td>46935.533518</td>\n    </tr>\n    <tr>\n      <th>2018</th>\n      <td>58331.060738</td>\n      <td>0.841767</td>\n      <td>58331.060738</td>\n    </tr>\n    <tr>\n      <th>2019</th>\n      <td>50962.602894</td>\n      <td>0.916003</td>\n      <td>50962.602894</td>\n    </tr>\n  </tbody>\n</table>\n</div>"
     },
     "execution_count": 60,
     "metadata": {},
     "output_type": "execute_result"
    }
   ],
   "source": [
    "# Group by year\n",
    "yearly_data = data.groupby(data['funded_date'].dt.year)[[\"interest_expenses\", \"LTV_ratio\",\"interest_expenses\"]].median()\n",
    "yearly_data"
   ],
   "metadata": {
    "collapsed": false,
    "ExecuteTime": {
     "end_time": "2024-02-12T03:58:33.702152Z",
     "start_time": "2024-02-12T03:58:33.688795Z"
    }
   },
   "id": "633d2f2c4316756a",
   "execution_count": 60
  },
  {
   "cell_type": "code",
   "outputs": [
    {
     "data": {
      "text/plain": "             interest_expenses  LTV_ratio  interest_expenses\nfunded_date                                                 \n1                 37642.567853   0.613360       37642.567853\n2                 40250.564629   0.610113       40250.564629\n3                 46358.576873   0.649443       46358.576873\n4                 39877.596928   0.667327       39877.596928\n5                 41698.731787   0.706760       41698.731787\n6                 43454.416211   0.677908       43454.416211\n7                 41320.525515   0.667507       41320.525515\n8                 40079.521490   0.673320       40079.521490\n9                 45143.208571   0.733802       45143.208571\n10                41260.115764   0.722227       41260.115764\n11                42364.449568   0.707045       42364.449568\n12                42451.788610   0.731680       42451.788610",
      "text/html": "<div>\n<style scoped>\n    .dataframe tbody tr th:only-of-type {\n        vertical-align: middle;\n    }\n\n    .dataframe tbody tr th {\n        vertical-align: top;\n    }\n\n    .dataframe thead th {\n        text-align: right;\n    }\n</style>\n<table border=\"1\" class=\"dataframe\">\n  <thead>\n    <tr style=\"text-align: right;\">\n      <th></th>\n      <th>interest_expenses</th>\n      <th>LTV_ratio</th>\n      <th>interest_expenses</th>\n    </tr>\n    <tr>\n      <th>funded_date</th>\n      <th></th>\n      <th></th>\n      <th></th>\n    </tr>\n  </thead>\n  <tbody>\n    <tr>\n      <th>1</th>\n      <td>37642.567853</td>\n      <td>0.613360</td>\n      <td>37642.567853</td>\n    </tr>\n    <tr>\n      <th>2</th>\n      <td>40250.564629</td>\n      <td>0.610113</td>\n      <td>40250.564629</td>\n    </tr>\n    <tr>\n      <th>3</th>\n      <td>46358.576873</td>\n      <td>0.649443</td>\n      <td>46358.576873</td>\n    </tr>\n    <tr>\n      <th>4</th>\n      <td>39877.596928</td>\n      <td>0.667327</td>\n      <td>39877.596928</td>\n    </tr>\n    <tr>\n      <th>5</th>\n      <td>41698.731787</td>\n      <td>0.706760</td>\n      <td>41698.731787</td>\n    </tr>\n    <tr>\n      <th>6</th>\n      <td>43454.416211</td>\n      <td>0.677908</td>\n      <td>43454.416211</td>\n    </tr>\n    <tr>\n      <th>7</th>\n      <td>41320.525515</td>\n      <td>0.667507</td>\n      <td>41320.525515</td>\n    </tr>\n    <tr>\n      <th>8</th>\n      <td>40079.521490</td>\n      <td>0.673320</td>\n      <td>40079.521490</td>\n    </tr>\n    <tr>\n      <th>9</th>\n      <td>45143.208571</td>\n      <td>0.733802</td>\n      <td>45143.208571</td>\n    </tr>\n    <tr>\n      <th>10</th>\n      <td>41260.115764</td>\n      <td>0.722227</td>\n      <td>41260.115764</td>\n    </tr>\n    <tr>\n      <th>11</th>\n      <td>42364.449568</td>\n      <td>0.707045</td>\n      <td>42364.449568</td>\n    </tr>\n    <tr>\n      <th>12</th>\n      <td>42451.788610</td>\n      <td>0.731680</td>\n      <td>42451.788610</td>\n    </tr>\n  </tbody>\n</table>\n</div>"
     },
     "execution_count": 61,
     "metadata": {},
     "output_type": "execute_result"
    }
   ],
   "source": [
    "# Group by year\n",
    "monthly_data = data.groupby(data['funded_date'].dt.month)[[\"interest_expenses\", \"LTV_ratio\",\"interest_expenses\"]].median()\n",
    "monthly_data"
   ],
   "metadata": {
    "collapsed": false,
    "ExecuteTime": {
     "end_time": "2024-02-12T03:58:33.703001Z",
     "start_time": "2024-02-12T03:58:33.695200Z"
    }
   },
   "id": "e0827e2854dea8fa",
   "execution_count": 61
  },
  {
   "cell_type": "code",
   "outputs": [],
   "source": [
    "year_month_data = data.copy()\n",
    "\n",
    "# Create a new column for the combined year and month\n",
    "year_month_data['year_month'] = year_month_data['funded_date'].dt.to_period('M')\n",
    "\n",
    "# Group by year_month and sum the income\n",
    "yearly_monthly_income = year_month_data.groupby(['year_month'])[[\"interest_expenses\", \"LTV_ratio\",\"interest_expenses\"]].sum()"
   ],
   "metadata": {
    "collapsed": false,
    "ExecuteTime": {
     "end_time": "2024-02-12T03:58:33.709992Z",
     "start_time": "2024-02-12T03:58:33.702812Z"
    }
   },
   "id": "cddb38d7cca968c",
   "execution_count": 62
  },
  {
   "cell_type": "code",
   "outputs": [
    {
     "data": {
      "text/plain": "            interest_expenses  LTV_ratio  interest_expenses\nyear_month                                                 \n2012-01          7.097842e+05  10.557246       7.097842e+05\n2012-02          8.949933e+05  11.088417       8.949933e+05\n2012-03          5.540123e+05   6.997994       5.540123e+05\n2012-04          4.672342e+05   6.078181       4.672342e+05\n2012-05          4.090754e+05   8.437177       4.090754e+05\n...                       ...        ...                ...\n2019-08          4.745302e+05  12.015405       4.745302e+05\n2019-09          1.824349e+06  23.869069       1.824349e+06\n2019-10          1.045300e+06  18.529579       1.045300e+06\n2019-11          1.054862e+06  19.680017       1.054862e+06\n2019-12          8.977401e+05  18.685615       8.977401e+05\n\n[96 rows x 3 columns]",
      "text/html": "<div>\n<style scoped>\n    .dataframe tbody tr th:only-of-type {\n        vertical-align: middle;\n    }\n\n    .dataframe tbody tr th {\n        vertical-align: top;\n    }\n\n    .dataframe thead th {\n        text-align: right;\n    }\n</style>\n<table border=\"1\" class=\"dataframe\">\n  <thead>\n    <tr style=\"text-align: right;\">\n      <th></th>\n      <th>interest_expenses</th>\n      <th>LTV_ratio</th>\n      <th>interest_expenses</th>\n    </tr>\n    <tr>\n      <th>year_month</th>\n      <th></th>\n      <th></th>\n      <th></th>\n    </tr>\n  </thead>\n  <tbody>\n    <tr>\n      <th>2012-01</th>\n      <td>7.097842e+05</td>\n      <td>10.557246</td>\n      <td>7.097842e+05</td>\n    </tr>\n    <tr>\n      <th>2012-02</th>\n      <td>8.949933e+05</td>\n      <td>11.088417</td>\n      <td>8.949933e+05</td>\n    </tr>\n    <tr>\n      <th>2012-03</th>\n      <td>5.540123e+05</td>\n      <td>6.997994</td>\n      <td>5.540123e+05</td>\n    </tr>\n    <tr>\n      <th>2012-04</th>\n      <td>4.672342e+05</td>\n      <td>6.078181</td>\n      <td>4.672342e+05</td>\n    </tr>\n    <tr>\n      <th>2012-05</th>\n      <td>4.090754e+05</td>\n      <td>8.437177</td>\n      <td>4.090754e+05</td>\n    </tr>\n    <tr>\n      <th>...</th>\n      <td>...</td>\n      <td>...</td>\n      <td>...</td>\n    </tr>\n    <tr>\n      <th>2019-08</th>\n      <td>4.745302e+05</td>\n      <td>12.015405</td>\n      <td>4.745302e+05</td>\n    </tr>\n    <tr>\n      <th>2019-09</th>\n      <td>1.824349e+06</td>\n      <td>23.869069</td>\n      <td>1.824349e+06</td>\n    </tr>\n    <tr>\n      <th>2019-10</th>\n      <td>1.045300e+06</td>\n      <td>18.529579</td>\n      <td>1.045300e+06</td>\n    </tr>\n    <tr>\n      <th>2019-11</th>\n      <td>1.054862e+06</td>\n      <td>19.680017</td>\n      <td>1.054862e+06</td>\n    </tr>\n    <tr>\n      <th>2019-12</th>\n      <td>8.977401e+05</td>\n      <td>18.685615</td>\n      <td>8.977401e+05</td>\n    </tr>\n  </tbody>\n</table>\n<p>96 rows × 3 columns</p>\n</div>"
     },
     "execution_count": 63,
     "metadata": {},
     "output_type": "execute_result"
    }
   ],
   "source": [
    "yearly_monthly_income"
   ],
   "metadata": {
    "collapsed": false,
    "ExecuteTime": {
     "end_time": "2024-02-12T03:58:33.729799Z",
     "start_time": "2024-02-12T03:58:33.712908Z"
    }
   },
   "id": "a9aedceae74942e2",
   "execution_count": 63
  },
  {
   "cell_type": "code",
   "outputs": [
    {
     "name": "stdout",
     "output_type": "stream",
     "text": [
      "<class 'pandas.core.frame.DataFrame'>\n",
      "RangeIndex: 365 entries, 0 to 364\n",
      "Data columns (total 2 columns):\n",
      " #   Column  Non-Null Count  Dtype         \n",
      "---  ------  --------------  -----         \n",
      " 0   Date    365 non-null    datetime64[ns]\n",
      " 1   Value   365 non-null    int64         \n",
      "dtypes: datetime64[ns](1), int64(1)\n",
      "memory usage: 5.8 KB\n"
     ]
    }
   ],
   "source": [
    "data = {\n",
    "    'Date': pd.date_range(start='2021-01-01', end='2021-12-31', freq='D'),\n",
    "    'Value': range(len(pd.date_range(start='2021-01-01', end='2021-12-31', freq='D')))  # 3 years of daily data\n",
    "}\n",
    "test = pd.DataFrame(data)\n",
    "\n",
    "test.info()"
   ],
   "metadata": {
    "collapsed": false,
    "ExecuteTime": {
     "end_time": "2024-02-12T03:58:33.799768Z",
     "start_time": "2024-02-12T03:58:33.720649Z"
    }
   },
   "id": "c2e99fa8a9fc230",
   "execution_count": 64
  },
  {
   "cell_type": "code",
   "outputs": [],
   "source": [],
   "metadata": {
    "collapsed": false,
    "ExecuteTime": {
     "end_time": "2024-02-12T03:58:33.801660Z",
     "start_time": "2024-02-12T03:58:33.730876Z"
    }
   },
   "id": "79e5ef07ea558810",
   "execution_count": 64
  }
 ],
 "metadata": {
  "kernelspec": {
   "display_name": "Python 3",
   "language": "python",
   "name": "python3"
  },
  "language_info": {
   "codemirror_mode": {
    "name": "ipython",
    "version": 2
   },
   "file_extension": ".py",
   "mimetype": "text/x-python",
   "name": "python",
   "nbconvert_exporter": "python",
   "pygments_lexer": "ipython2",
   "version": "2.7.6"
  }
 },
 "nbformat": 4,
 "nbformat_minor": 5
}
